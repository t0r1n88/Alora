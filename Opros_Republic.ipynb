{
 "cells": [
  {
   "cell_type": "code",
   "execution_count": 66,
   "id": "0fe549ba",
   "metadata": {},
   "outputs": [
    {
     "data": {
      "text/plain": [
       "'\\nСкрипт для обработки данных полученных из яндекс формы по изучению возможностей ПОО к организации кружков для школьников\\n'"
      ]
     },
     "execution_count": 66,
     "metadata": {},
     "output_type": "execute_result"
    }
   ],
   "source": [
    "\"\"\"\n",
    "Скрипт для обработки данных полученных из яндекс формы по изучению возможностей ПОО к организации кружков для школьников\n",
    "\"\"\""
   ]
  },
  {
   "cell_type": "code",
   "execution_count": 91,
   "id": "4557830a",
   "metadata": {},
   "outputs": [],
   "source": [
    "import pandas as pd\n",
    "import openpyxl\n",
    "from itertools import chain\n",
    "import re"
   ]
  },
  {
   "cell_type": "code",
   "execution_count": 68,
   "id": "e18278d1",
   "metadata": {},
   "outputs": [],
   "source": [
    "def concat_answer_yandex(row):\n",
    "    \"\"\"\n",
    "    Функция для соединения ответов из яндекс форм\n",
    "    \"\"\"\n",
    "    temp_lst = row.tolist()\n",
    "    lst_value = [value for value in temp_lst if value !='Пусто']\n",
    "    return ','.join(lst_value)\n"
   ]
  },
  {
   "cell_type": "code",
   "execution_count": 69,
   "id": "faa3adb1",
   "metadata": {},
   "outputs": [],
   "source": [
    "df = pd.read_excel('data/Opros/Яндекс 9 класс.xlsx')\n",
    "df = df.iloc[:,2:] # отсекаем колонки со служебной информацией яндекса\n",
    "df.fillna('Пусто',inplace=True) # заполняем пустоту\n",
    "#out_df = pd.DataFrame(columns=['ПОО','ФИО заполнившего','Должность','Телефон','Лицензия','Мастерская','Кружок','Количество рабочих мест','Условия для проведения','Кадровое обеспечение'])"
   ]
  },
  {
   "cell_type": "code",
   "execution_count": 71,
   "id": "472b5280",
   "metadata": {},
   "outputs": [],
   "source": [
    "# создаем списки колонок\n",
    "six_columns = [name_column for name_column in df.columns if '6.' in name_column and '16.' not in name_column]\n",
    "seven_columns = [name_column for name_column in df.columns if '7.' in name_column and '17.' not in name_column]\n",
    "nine_columns = [name_column for name_column in df.columns if '9.' in name_column and '19.' not in name_column]\n"
   ]
  },
  {
   "cell_type": "code",
   "execution_count": 72,
   "id": "96bee532",
   "metadata": {},
   "outputs": [],
   "source": [
    "df['6 вопрос'] = df[six_columns].apply(concat_answer_yandex,axis=1)\n",
    "df['7 вопрос'] = df[seven_columns].apply(concat_answer_yandex,axis=1)\n",
    "df['9 вопрос'] = df[nine_columns].apply(concat_answer_yandex,axis=1)"
   ]
  },
  {
   "cell_type": "code",
   "execution_count": 73,
   "id": "24f6e46f",
   "metadata": {},
   "outputs": [],
   "source": [
    "del_cols = list(chain.from_iterable((six_columns, seven_columns, nine_columns)))"
   ]
  },
  {
   "cell_type": "code",
   "execution_count": 74,
   "id": "7aeb7b36",
   "metadata": {},
   "outputs": [],
   "source": [
    "df.drop(columns=del_cols,inplace=True)# удаляем лишние колонки"
   ]
  },
  {
   "cell_type": "code",
   "execution_count": 76,
   "id": "1959b667",
   "metadata": {},
   "outputs": [],
   "source": [
    "new_columns = ['1. Укажите Ваш пол','2. Укажите Ваш возраст','3. Укажите Ваше муниципальное образование/ район',\n",
    "               '4. Укажите Ваш населенный пункт','5. Наименование / номер школы','6 вопрос','7 вопрос',\n",
    "               '8. Какая из перечисленных профессиональных групп наиболее соответствует Вашим желаниям и способностям?',\n",
    "               '9 вопрос',\n",
    "              '10. Сколько классов общеобразовательной школы Вы планируете закончить?',\n",
    "               '11. Какой путь получения специальности/направления подготовки/профессии Вы считаете наиболее подходящим для себя?',\n",
    "               '12. Укажите, к какому типу относится выбранная Вами образовательная организация',\n",
    "               '13.1 Если выбор сделан или есть предположительные варианты, укажите, к какой группе специальностей/направлений подготовке/профессий относятся выбранные Вами специальности/направления подготовки/профессии:',\n",
    "               '13.2 Если вы выбрали медицинскую профессию/специальность/направление подготовки то укажите, если знаете, выбранную специализацию',\n",
    "               '13.3 Если выбор  будущей профессии/специальности Вами не сделан, то укажите по какой причине',\n",
    "               '14. Где Вы сможете работать по полученной специальности/направлению подготовки/профессии? (укажите возможное место): В какой сфере деятельности?',\n",
    "               '14.1 Если вы  выбрали обрабатывающие производства (промышленность) то уточните пожалуйста, в каком виде промышленности вы планируете работать',\n",
    "               '15. Как относятся родители к Вашему выбору профессии?',\n",
    "               '16. Что Вы делаете для того, чтобы подготовить себя к будущей специальности/направлению подготовки/профессии?',\n",
    "               '17. Хотели бы Вы посоветоваться с кем-нибудь по вопросу своего выбора?',\n",
    "              '18. Какие направления экономики Вы считаете приоритетными для развития в Республике Бурятия? (указать не более 3 сфер)',\n",
    "               '19. Нужна ли Вам квалифицированная помощь по вопросу выбора специальности/направления подготовки/профессии?',\n",
    "               '20. В какие учреждения Вы можете обратиться за помощью в выборе специальности/направления подготовки/профессии? (укажите, пожалуйста, даже если Вы лично в такой помощи не нуждаетесь) (если затрудняетесь ответить, напишите \"не знаю\")'\n",
    "               ]"
   ]
  },
  {
   "cell_type": "code",
   "execution_count": 77,
   "id": "70bef2f4",
   "metadata": {},
   "outputs": [],
   "source": [
    "df = df.reindex(columns=new_columns) # делаем правильный порядок"
   ]
  },
  {
   "cell_type": "code",
   "execution_count": 80,
   "id": "60812b8a",
   "metadata": {},
   "outputs": [],
   "source": [
    "df.to_excel('data/Яндекс Итог 9 класс.xlsx',index=False)"
   ]
  },
  {
   "cell_type": "code",
   "execution_count": 90,
   "id": "927a3ce0",
   "metadata": {},
   "outputs": [],
   "source": [
    "all_9class = pd.read_excel('data/Opros/9 Класс Общий файл.xlsx')"
   ]
  },
  {
   "cell_type": "code",
   "execution_count": 93,
   "id": "9c13f169",
   "metadata": {},
   "outputs": [],
   "source": [
    "all_9class['18. Какие направления экономики Вы считаете приоритетными для развития в Республике Бурятия? (укажите не более 3 сфер)'] = all_9class['18. Какие направления экономики Вы считаете приоритетными для развития в Республике Бурятия? (укажите не более 3 сфер)'].apply(\n",
    "lambda x:re.sub(r'\\d+.\\s+','',x))"
   ]
  },
  {
   "cell_type": "code",
   "execution_count": 94,
   "id": "a7038b1d",
   "metadata": {},
   "outputs": [
    {
     "data": {
      "text/plain": [
       "0        Медицина, Образование и наука, Не знаю\n",
       "1                    Медицина, Экология, Туризм\n",
       "2       Медицина, Строительство, Машиностроение\n",
       "3                                       Не знаю\n",
       "4        Медицина, Экология, Сельское хозяйство\n",
       "                         ...                   \n",
       "8531                                    Не знаю\n",
       "8532                                    Не знаю\n",
       "8533                                  Транспорт\n",
       "8534                                   Экология\n",
       "8535                                     Туризм\n",
       "Name: 18. Какие направления экономики Вы считаете приоритетными для развития в Республике Бурятия? (укажите не более 3 сфер), Length: 8536, dtype: object"
      ]
     },
     "execution_count": 94,
     "metadata": {},
     "output_type": "execute_result"
    }
   ],
   "source": [
    "all_9class['18. Какие направления экономики Вы считаете приоритетными для развития в Республике Бурятия? (укажите не более 3 сфер)']"
   ]
  },
  {
   "cell_type": "code",
   "execution_count": 96,
   "id": "5d84d583",
   "metadata": {},
   "outputs": [],
   "source": [
    "all_9class.to_excel('9 Класс Итог.xlsx',index=False)"
   ]
  },
  {
   "cell_type": "code",
   "execution_count": null,
   "id": "4c8bf2eb",
   "metadata": {},
   "outputs": [],
   "source": []
  },
  {
   "cell_type": "raw",
   "id": "32bdac64",
   "metadata": {},
   "source": [
    "border = 5 #  количество колонок с информацией о ПОО\n",
    "offset = 4 # количество колонок которые занимают данные по мастерским\n",
    "# максимальное количество мастерских\n",
    "number_mastery = len([name_column for name_column in df.columns if 'Название мастерской' in name_column])\n",
    "threshold =border + offset * number_mastery\n",
    "\n",
    "\n",
    "df.iloc[:,border:threshold].columns\n",
    "\n",
    "for idx,row in enumerate(df.itertuples()):\n",
    "    count = 6 # счетчик для отсчета обработанных срезов\n",
    "    poo_data = list(row[1:count])\n",
    "    print(poo_data)\n",
    "    for mastery in range(number_mastery):\n",
    "        data = list(row[count:count+offset])\n",
    "        if data[0] !='Пусто':\n",
    "            temp_lst = poo_data.copy()\n",
    "\n",
    "            temp_lst.extend(data)\n",
    "            \n",
    "            # получаем строку с кадровым обеспечением\n",
    "            temp_kadr_lst = [value for value in row[threshold+1:] if value != 'Пусто']\n",
    "            temp_lst.append(';'.join(temp_kadr_lst))\n",
    "\n",
    "            temp_row = pd.DataFrame(columns=['ПОО','ФИО заполнившего',\n",
    "                                             'Должность','Телефон','Лицензия','Мастерская','Кружок','Количество рабочих мест',\n",
    "                                             'Условия для проведения','Кадровое обеспечение'],\n",
    "                                   data=[temp_lst])\n",
    "            \n",
    "            out_df = pd.concat([out_df,temp_row],ignore_index=True)\n",
    "            \n",
    "                                             \n",
    "        \n",
    "        \n",
    "        \n",
    "        count += offset\n",
    "\n",
    "\n",
    "\n",
    "\n",
    "\n",
    "out_df\n",
    "\n",
    "kadr_df=out_df.drop_duplicates(subset=['ПОО']) # удаляем дубликаты чтобы подсчитать кадровое обеспечение\n",
    "# создаем словарь\n",
    "dct_kadr = {'Преподаватели/мастера/сотрудники, которые работают в ПОО':0,'Студенты старших курсов ПОО':0,\n",
    "            'Студенты ВУЗов':0,'Наемные преподаватели (по договору ГПХ, например представители работодателя-партнера и т.д.)':0,'Другое':0,}\n",
    "\n",
    "for row in kadr_df.itertuples():\n",
    "    kadr_lst = row[-1].split(';')\n",
    "    for kadr in kadr_lst:\n",
    "        dct_kadr[kadr] += 1\n",
    "\n",
    "dct_kadr\n",
    "\n",
    "out_kadr_df=pd.DataFrame(columns=['Категория','Количество'],data=dct_kadr.items())\n",
    "\n",
    "out_kadr_df.sort_values(by=['Количество'],ascending=False,inplace=True)\n",
    "\n",
    "count_poo_df =out_df.groupby(['ПОО']).agg({'Кружок':'count'}).reset_index()\n",
    "count_poo_df.sort_values(by=['Кружок'],ascending=False,inplace=True)\n",
    "count_krug_df =out_df.groupby(['ПОО','Мастерская']).agg({'Кружок':'count'}).reset_index()\n",
    "count_krug_df.sort_values(by=['Кружок'],ascending=False,inplace=True)\n",
    "\n",
    "\n",
    "with pd.ExcelWriter('data/Данные по мониторингу ПОО Доп образование.xlsx') as writer:\n",
    "    out_df.to_excel(writer,sheet_name='Общие данные',index=0)\n",
    "    out_kadr_df.to_excel(writer,sheet_name='Кадровое обеспечение',index=1)\n",
    "    count_poo_df.to_excel(writer,sheet_name='Количество кружков в ПОО',index=2)\n",
    "    count_krug_df.to_excel(writer,sheet_name='Количество кружков мастерские',index=3)\n",
    "    \n",
    "\n",
    "\n",
    "\n"
   ]
  },
  {
   "cell_type": "code",
   "execution_count": 99,
   "id": "ccd6a900",
   "metadata": {},
   "outputs": [],
   "source": [
    "df = pd.read_excel('data/Opros/11 класс Яндекс.xlsx')\n",
    "df = df.iloc[:,2:] # отсекаем колонки со служебной информацией яндекса\n",
    "df.fillna('Пусто',inplace=True) # заполняем пустоту"
   ]
  },
  {
   "cell_type": "code",
   "execution_count": 105,
   "id": "e5b5c5cf",
   "metadata": {},
   "outputs": [],
   "source": [
    "# создаем списки колонок\n",
    "seven_columns = [name_column for name_column in df.columns if '7.' in name_column and '17.' not in name_column]\n",
    "eight_columns = [name_column for name_column in df.columns if '8.' in name_column and '18.' not in name_column]\n",
    "eleven_columns = [name_column for name_column in df.columns if '11.' in name_column ]"
   ]
  },
  {
   "cell_type": "code",
   "execution_count": 107,
   "id": "28fac953",
   "metadata": {},
   "outputs": [],
   "source": [
    "df['7 вопрос'] = df[seven_columns].apply(concat_answer_yandex,axis=1)\n",
    "df['8 вопрос'] = df[eight_columns].apply(concat_answer_yandex,axis=1)\n",
    "df['11 вопрос'] = df[eleven_columns].apply(concat_answer_yandex,axis=1)"
   ]
  },
  {
   "cell_type": "code",
   "execution_count": 108,
   "id": "8b336243",
   "metadata": {},
   "outputs": [],
   "source": [
    "del_cols = list(chain.from_iterable((six_columns, seven_columns, nine_columns)))\n",
    "\n",
    "df.drop(columns=del_cols,inplace=True)# удаляем лишние колонки"
   ]
  },
  {
   "cell_type": "code",
   "execution_count": 109,
   "id": "2a7db6d3",
   "metadata": {},
   "outputs": [],
   "source": [
    "new_columns = ['1. Укажите Ваш пол','2. Укажите Ваш возраст','3. Укажите Ваше муниципальное образование/ район',\n",
    "               '4. Укажите Ваш населенный пункт','5. Наименование / номер школы','6. По какому профилю вы обучаетесь?',\n",
    "               '7 вопрос',\n",
    "               '8 вопрос',\n",
    "               '9. Какую роль (статус) Вы выбрали для себя в профессиональной деятельности?',\n",
    "              '10. Какая из перечисленных профессиональных групп наиболее соответствует Вашим желаниям и способностям?',\n",
    "               '11 вопрос',\n",
    "               '12. На каком предприятии Вы хотели бы работать?',\n",
    "               '13. Кто помог Вам сделать окончательный выбор специальности/направления подготовки/профессии?',\n",
    "               '14. Какой путь получения специальности/направления подготовки/профессии Вы считаете наиболее подходящим для себя?',\n",
    "               '15. Укажите, к какому типу относится выбранное Вами учебное заведение',\n",
    "               '15.1 Укажите название учебного заведения, в которое Вы собираетесь поступать',\n",
    "               '16. Готовы ли Вы (ваша семья) платить за образование?',\n",
    "               '17. Выбрали ли Вы свою будущую специальность/направление подготовки/ профессию?',\n",
    "               '17.1  Если выбор сделан или есть предположительные варианты, укажите, к какой группе относятся выбранные Вами специальности/направления подготовки/профессии. Укажите не более 3',\n",
    "               '17.2 Если вы выбрали медицинскую профессию/специальность/направление подготовки то укажите, если знаете, выбранную специализацию',\n",
    "              '17.3 Если у Вас есть предположительный вариант специальности , укажите, какой именно (не более трех вариантов)',\n",
    "               '17.4 Если выбор будущей профессии/специальности Вами не сделан, то укажите по какой причине',\n",
    "               '18. Где Вы сможете работать по полученной специальности/направлению подготовки/ профессии?(укажите возможное предприятие, организацию)',\n",
    "               '18.1 В какой сфере деятельности?','18.2 Если вы  выбрали обрабатывающие производства (промышленность) то уточните пожалуйста, в каком виде промышленности вы планируете работать',\n",
    "               '19. Какие направления экономики Вы считаете приоритетными для развития в Республике Бурятия? (указать не более 3 сфер)',\n",
    "               '20. Нужна ли Вам квалифицированная помощь по вопросу выбора специальности/направления подготовки/профессии?'\n",
    "               ]"
   ]
  },
  {
   "cell_type": "code",
   "execution_count": 110,
   "id": "0190294e",
   "metadata": {},
   "outputs": [],
   "source": [
    "\n",
    "df = df.reindex(columns=new_columns) # делаем правильный порядок\n",
    "\n",
    "df.to_excel('data/Opros/Яндекс Итог 11 база класс.xlsx',index=False)"
   ]
  },
  {
   "cell_type": "code",
   "execution_count": null,
   "id": "dc39bb57",
   "metadata": {},
   "outputs": [],
   "source": []
  },
  {
   "cell_type": "code",
   "execution_count": 112,
   "id": "aa4bc39a",
   "metadata": {},
   "outputs": [],
   "source": [
    "all_11class = pd.read_excel('data/Opros/11 класс Гугл общий необработанный.xlsx')\n",
    "\n",
    "all_11class['19. Какие направления экономики Вы считаете приоритетными для развития в Республике Бурятия? (укажите не более 3 сфер)'] = all_11class['19. Какие направления экономики Вы считаете приоритетными для развития в Республике Бурятия? (укажите не более 3 сфер)'].apply(\n",
    "lambda x:re.sub(r'\\d+.\\s+','',x))\n",
    "\n",
    "all_11class.to_excel('11 Класс Итог.xlsx',index=False)"
   ]
  },
  {
   "cell_type": "code",
   "execution_count": null,
   "id": "91254d99",
   "metadata": {},
   "outputs": [],
   "source": []
  },
  {
   "cell_type": "code",
   "execution_count": null,
   "id": "9ac6da86",
   "metadata": {},
   "outputs": [],
   "source": []
  },
  {
   "cell_type": "code",
   "execution_count": null,
   "id": "86200dd3",
   "metadata": {},
   "outputs": [],
   "source": []
  },
  {
   "cell_type": "code",
   "execution_count": null,
   "id": "2cbd4edd",
   "metadata": {},
   "outputs": [],
   "source": []
  },
  {
   "cell_type": "code",
   "execution_count": null,
   "id": "1441e466",
   "metadata": {},
   "outputs": [],
   "source": []
  },
  {
   "cell_type": "code",
   "execution_count": null,
   "id": "b5f934ab",
   "metadata": {},
   "outputs": [],
   "source": []
  },
  {
   "cell_type": "code",
   "execution_count": null,
   "id": "5eb069fd",
   "metadata": {},
   "outputs": [],
   "source": []
  },
  {
   "cell_type": "code",
   "execution_count": 79,
   "id": "fb36f42e",
   "metadata": {},
   "outputs": [
    {
     "name": "stdout",
     "output_type": "stream",
     "text": [
      "Lindy Booth\n"
     ]
    }
   ],
   "source": [
    "print('Lindy Booth')"
   ]
  }
 ],
 "metadata": {
  "kernelspec": {
   "display_name": "Python 3 (ipykernel)",
   "language": "python",
   "name": "python3"
  },
  "language_info": {
   "codemirror_mode": {
    "name": "ipython",
    "version": 3
   },
   "file_extension": ".py",
   "mimetype": "text/x-python",
   "name": "python",
   "nbconvert_exporter": "python",
   "pygments_lexer": "ipython3",
   "version": "3.9.13"
  }
 },
 "nbformat": 4,
 "nbformat_minor": 5
}
