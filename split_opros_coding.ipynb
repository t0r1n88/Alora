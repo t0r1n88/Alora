{
 "cells": [
  {
   "cell_type": "code",
   "execution_count": 209,
   "id": "9b7e53e1",
   "metadata": {},
   "outputs": [],
   "source": [
    "import pandas as pd\n",
    "import re"
   ]
  },
  {
   "cell_type": "code",
   "execution_count": 210,
   "id": "0422f7af",
   "metadata": {},
   "outputs": [],
   "source": [
    "def clean_end(value:str):\n",
    "    \n",
    "    value = value.strip()\n",
    "    if value.endswith(','):\n",
    "        return value[:-1]\n",
    "    elif value.endswith('.'):\n",
    "        return value[:-1]\n",
    "    else:\n",
    "        return value"
   ]
  },
  {
   "cell_type": "code",
   "execution_count": 211,
   "id": "dd33521e",
   "metadata": {},
   "outputs": [],
   "source": [
    "def split_column(value):\n",
    "    if isinstance(value,str):\n",
    "        value = re.findall(r'([ЁА-Я][а-я,-;.\\(\\)\\s]+)',value)\n",
    "        temp_lst = list(map(clean_end,value))\n",
    "        value = '&'.join(temp_lst)\n",
    "        return value\n",
    "    else:\n",
    "        return None"
   ]
  },
  {
   "cell_type": "code",
   "execution_count": 212,
   "id": "016cf10b",
   "metadata": {},
   "outputs": [],
   "source": [
    "def replace_all(value, rep_dct, placeholder):\n",
    "    print(value)\n",
    "    value = value.replace(rep_dct)\n",
    "   \n",
    "    return value\n",
    "    \n",
    "    "
   ]
  },
  {
   "cell_type": "code",
   "execution_count": 213,
   "id": "a1dba7d9",
   "metadata": {},
   "outputs": [],
   "source": [
    "df_9_main = pd.read_excel('data/Opros/9 класс Исходный.xlsx',dtype=str)"
   ]
  },
  {
   "cell_type": "code",
   "execution_count": 214,
   "id": "63a3423e",
   "metadata": {},
   "outputs": [],
   "source": [
    "# Обработка 6 колонки\n",
    "df_6 = df_9_main['6. Укажите, какие предметы вы изучаете углубленно:'].str.split(',', expand=True).astype(str)\n",
    "\n",
    "dct_6 = {'Русский язык':1,'Математика':2,'Физика':3,'Химия':4,'Информатика':5,'Биология':6,'История':7,'География':8,\n",
    "         'Иностранный язык':9,'Обществознание':10,'Литература':11,'Не изучаю':12,'None':'None'}"
   ]
  },
  {
   "cell_type": "code",
   "execution_count": 215,
   "id": "23aa1aa5",
   "metadata": {},
   "outputs": [],
   "source": [
    "df_6 = df_6.applymap(lambda x:x.strip() if isinstance(x,str) else x)\n",
    "# Заменяем\n",
    "df_6[0] = df_6[0].replace(dct_6)\n",
    "df_6[0] = df_6[0].apply(lambda x:13 if x not in (dct_6.values())  else x)\n",
    "\n",
    "df_6[1] = df_6[1].replace(dct_6)\n",
    "df_6[1] = df_6[1].apply(lambda x:13 if x not in (dct_6.values())  else x) \n",
    "\n",
    "df_6[2] = df_6[2].replace(dct_6)\n",
    "df_6[2] = df_6[2].apply(lambda x:13 if x not in (dct_6.values())  else x) \n",
    "\n",
    "df_6[3] = df_6[3].replace(dct_6)\n",
    "df_6[3] = df_6[3].apply(lambda x:13 if x not in (dct_6.values())  else x) \n",
    "\n",
    "df_6[4] = df_6[4].replace(dct_6)\n",
    "df_6[4] = df_6[4].apply(lambda x:13 if x not in (dct_6.values())  else x) \n",
    "\n",
    "\n",
    "\n",
    "\n",
    "df_9_main.insert(6,'6.1 Укажите, какие предметы вы изучаете углубленно:',df_6[0])\n",
    "df_9_main.insert(7,'6.2 Укажите, какие предметы вы изучаете углубленно:',df_6[1])\n",
    "df_9_main.insert(8,'6.3 Укажите, какие предметы вы изучаете углубленно:',df_6[2])\n",
    "df_9_main.insert(9,'6.4 Укажите, какие предметы вы изучаете углубленно:',df_6[3])\n",
    "df_9_main.insert(10,'6.5 Укажите, какие предметы вы изучаете углубленно:',df_6[4])\n"
   ]
  },
  {
   "cell_type": "code",
   "execution_count": 216,
   "id": "0b391261",
   "metadata": {},
   "outputs": [],
   "source": [
    "# Колонка 7\n",
    "df_9_main['7. Чем Вы в основном руководствуетесь при выборе специальности/направления подготовки/профессии? (выберите не более ДВУХ ответов):'] = df_9_main['7. Чем Вы в основном руководствуетесь при выборе специальности/направления подготовки/профессии? (выберите не более ДВУХ ответов):'].apply(split_column)\n",
    "dct_7 = {'Любимое и подходящее мне занятие':1,'Хорошее материальное стимулирование в первую очередь':2,'Возможность трудоустроиться':3,\n",
    "         'Более доступное образование':4,'Возможность работать на селе':5,'Главное - получить высшее образование':6,'Получить перспективную и более гибкую профессию':7,\n",
    "         'Решить проблему службы в армии':8,\n",
    "         'Затрудняюсь ответить ':9,'None':'None'}\n",
    "\n",
    "\n",
    "\n",
    "df_7 = df_9_main['7. Чем Вы в основном руководствуетесь при выборе специальности/направления подготовки/профессии? (выберите не более ДВУХ ответов):'].str.split('&', expand=True).astype(str)"
   ]
  },
  {
   "cell_type": "code",
   "execution_count": 217,
   "id": "e0bb87fe",
   "metadata": {},
   "outputs": [],
   "source": [
    "df_7 = df_7.applymap(lambda x:x.strip() if isinstance(x,str) else x)\n",
    "df_7 = df_7.applymap(lambda x:x[:-1] if isinstance(x,str) and x.endswith('.') else x)\n",
    "\n",
    "# Заменяем\n",
    "df_7[0] = df_7[0].replace(dct_7)\n",
    "df_7[0] = df_7[0].apply(lambda x:10 if x not in (dct_7.values())  else x)\n",
    "\n",
    "df_7[1] = df_7[1].replace(dct_7)\n",
    "df_7[1] = df_7[1].apply(lambda x:10 if x not in (dct_7.values())  else x) \n",
    "\n",
    "\n"
   ]
  },
  {
   "cell_type": "code",
   "execution_count": null,
   "id": "6a3da041",
   "metadata": {},
   "outputs": [],
   "source": []
  },
  {
   "cell_type": "code",
   "execution_count": 218,
   "id": "70923e7b",
   "metadata": {},
   "outputs": [],
   "source": [
    "\n",
    "\n",
    "df_9_main.insert(12,'7.1 Чем Вы в основном руководствуетесь при выборе специальности/направления подготовки/профессии? (выберите не более ДВУХ ответов):',df_7[0])\n",
    "df_9_main.insert(13,'7.2 Чем Вы в основном руководствуетесь при выборе специальности/направления подготовки/профессии? (выберите не более ДВУХ ответов):',df_7[1])"
   ]
  },
  {
   "cell_type": "code",
   "execution_count": 219,
   "id": "b99e1f30",
   "metadata": {},
   "outputs": [],
   "source": [
    "# Колонка 9\n",
    "df_9_main['9. Какой вид экономической деятельности Вы предпочли бы при выборе специальности/направления подготовки/профессии? (выберите не более ДВУХ ответов):'] = df_9_main['9. Какой вид экономической деятельности Вы предпочли бы при выборе специальности/направления подготовки/профессии? (выберите не более ДВУХ ответов):'].apply(split_column)\n",
    "df_9 = df_9_main['9. Какой вид экономической деятельности Вы предпочли бы при выборе специальности/направления подготовки/профессии? (выберите не более ДВУХ ответов):'].str.split('&', expand=True).astype(str)\n",
    "df_9_main.insert(16,'9.1 Какой вид экономической деятельности Вы предпочли бы при выборе специальности/направления подготовки/профессии? (выберите не более ДВУХ ответов):',df_9[0])\n",
    "df_9_main.insert(17,'9.2 Какой вид экономической деятельности Вы предпочли бы при выборе специальности/направления подготовки/профессии? (выберите не более ДВУХ ответов):',df_9[1])"
   ]
  },
  {
   "cell_type": "code",
   "execution_count": 220,
   "id": "38eb3e4e",
   "metadata": {},
   "outputs": [],
   "source": [
    "# Колонка 13.1\n",
    "df_9_main['13.1 Укажите, к какой группе относятся выбранные Вами специальности/направления подготовки/профессии. Укажите не более 3'] = df_9_main['13.1 Укажите, к какой группе относятся выбранные Вами специальности/направления подготовки/профессии. Укажите не более 3'].apply(split_column)\n",
    "df_13_1 = df_9_main['13.1 Укажите, к какой группе относятся выбранные Вами специальности/направления подготовки/профессии. Укажите не более 3'].str.split('&', expand=True).astype(str)\n",
    "df_9_main.insert(23,'13.1.1 Укажите, к какой группе относятся выбранные Вами специальности/направления подготовки/профессии. Укажите не более 3',df_13_1[0])\n",
    "df_9_main.insert(24,'13.1.2 Укажите, к какой группе относятся выбранные Вами специальности/направления подготовки/профессии. Укажите не более 3',df_13_1[1])\n",
    "df_9_main.insert(25,'13.1.3 Укажите, к какой группе относятся выбранные Вами специальности/направления подготовки/профессии. Укажите не более 3',df_13_1[2])"
   ]
  },
  {
   "cell_type": "code",
   "execution_count": 221,
   "id": "445d639d",
   "metadata": {},
   "outputs": [],
   "source": [
    "# Колонка 13.3\n",
    "df_9_main['13.3 Если у Вас есть предположительный вариант, укажите, какой именно (не более 3 вариантов) '] = df_9_main['13.3 Если у Вас есть предположительный вариант, укажите, какой именно (не более 3 вариантов) '].apply(split_column)\n",
    "df_13_3 = df_9_main['13.3 Если у Вас есть предположительный вариант, укажите, какой именно (не более 3 вариантов) '].str.split('&', expand=True).astype(str)\n",
    "df_9_main.insert(28,'13.3.1 Укажите, к какой группе относятся выбранные Вами специальности/направления подготовки/профессии. Укажите не более 3',df_13_3[0])\n",
    "df_9_main.insert(29,'13.3.2 Укажите, к какой группе относятся выбранные Вами специальности/направления подготовки/профессии. Укажите не более 3',df_13_3[1])\n",
    "df_9_main.insert(30,'13.3.3 Укажите, к какой группе относятся выбранные Вами специальности/направления подготовки/профессии. Укажите не более 3',df_13_3[2])"
   ]
  },
  {
   "cell_type": "code",
   "execution_count": 222,
   "id": "3eba6b49",
   "metadata": {},
   "outputs": [],
   "source": [
    "# Колонка 16\n",
    "df_9_main['16. Что Вы делаете для того, чтобы подготовить себя к будущей специальности/направлению подготовки/профессии?'] = df_9_main['16. Что Вы делаете для того, чтобы подготовить себя к будущей специальности/направлению подготовки/профессии?'].apply(split_column)\n",
    "df_16 = df_9_main['16. Что Вы делаете для того, чтобы подготовить себя к будущей специальности/направлению подготовки/профессии?'].str.split('&', expand=True).astype(str)\n",
    "df_9_main.insert(36,'16.1 Что Вы делаете для того, чтобы подготовить себя к будущей специальности/направлению подготовки/профессии?',df_16[0])\n",
    "df_9_main.insert(37,'16.2 Что Вы делаете для того, чтобы подготовить себя к будущей специальности/направлению подготовки/профессии?',df_16[1])\n",
    "df_9_main.insert(38,'16.3 Что Вы делаете для того, чтобы подготовить себя к будущей специальности/направлению подготовки/профессии?',df_16[2])"
   ]
  },
  {
   "cell_type": "code",
   "execution_count": 223,
   "id": "4cb23e67",
   "metadata": {},
   "outputs": [],
   "source": [
    "# Колонка 18\n",
    "df_9_main['18. Какие направления экономики Вы считаете приоритетными для развития в Республике Бурятия? (укажите не более 3 сфер)'] = df_9_main['18. Какие направления экономики Вы считаете приоритетными для развития в Республике Бурятия? (укажите не более 3 сфер)'].apply(split_column)\n",
    "df_18 = df_9_main['18. Какие направления экономики Вы считаете приоритетными для развития в Республике Бурятия? (укажите не более 3 сфер)'].str.split('&', expand=True).astype(str)\n",
    "df_9_main.insert(42,'18.1 Какие направления экономики Вы считаете приоритетными для развития в Республике Бурятия? (укажите не более 3 сфер)',df_18[0])\n",
    "df_9_main.insert(43,'18.2 Какие направления экономики Вы считаете приоритетными для развития в Республике Бурятия? (укажите не более 3 сфер)',df_18[1])\n",
    "df_9_main.insert(44,'18.3 Какие направления экономики Вы считаете приоритетными для развития в Республике Бурятия? (укажите не более 3 сфер)',df_18[2])"
   ]
  },
  {
   "cell_type": "code",
   "execution_count": null,
   "id": "f8afe94e",
   "metadata": {},
   "outputs": [],
   "source": []
  },
  {
   "cell_type": "code",
   "execution_count": null,
   "id": "a8291443",
   "metadata": {},
   "outputs": [],
   "source": []
  },
  {
   "cell_type": "code",
   "execution_count": null,
   "id": "1791e7ef",
   "metadata": {},
   "outputs": [],
   "source": []
  },
  {
   "cell_type": "code",
   "execution_count": null,
   "id": "36f9e2a1",
   "metadata": {},
   "outputs": [],
   "source": []
  },
  {
   "cell_type": "code",
   "execution_count": 224,
   "id": "5e7ab60a",
   "metadata": {},
   "outputs": [],
   "source": [
    "df_9_main.drop(columns=['6. Укажите, какие предметы вы изучаете углубленно:',\n",
    "                        '7. Чем Вы в основном руководствуетесь при выборе специальности/направления подготовки/профессии? (выберите не более ДВУХ ответов):',\n",
    "                        '9. Какой вид экономической деятельности Вы предпочли бы при выборе специальности/направления подготовки/профессии? (выберите не более ДВУХ ответов):',\n",
    "                        '13.1 Укажите, к какой группе относятся выбранные Вами специальности/направления подготовки/профессии. Укажите не более 3',\n",
    "                        '13.3 Если у Вас есть предположительный вариант, укажите, какой именно (не более 3 вариантов) ',\n",
    "                        '16. Что Вы делаете для того, чтобы подготовить себя к будущей специальности/направлению подготовки/профессии?',\n",
    "                       '18. Какие направления экономики Вы считаете приоритетными для развития в Республике Бурятия? (укажите не более 3 сфер)'],inplace=True)"
   ]
  },
  {
   "cell_type": "code",
   "execution_count": null,
   "id": "e535ba80",
   "metadata": {},
   "outputs": [],
   "source": []
  },
  {
   "cell_type": "code",
   "execution_count": 225,
   "id": "75daf2d4",
   "metadata": {},
   "outputs": [],
   "source": [
    "df_9_main = df_9_main.applymap(lambda x: x.strip() if isinstance(x,str) else x)\n",
    "df_9_main = df_9_main.applymap(lambda x: x[:-1] if isinstance(x,str) and x.endswith('.') else x)"
   ]
  },
  {
   "cell_type": "raw",
   "id": "4e1428d0",
   "metadata": {},
   "source": [
    "Кодируем колонки\n"
   ]
  },
  {
   "cell_type": "code",
   "execution_count": 226,
   "id": "882e0cad",
   "metadata": {},
   "outputs": [],
   "source": [
    "df_9_main['1. Укажите Ваш пол'] = df_9_main['1. Укажите Ваш пол'].apply(lambda x: x.capitalize())\n",
    "df_9_main['1. Укажите Ваш пол'] = df_9_main['1. Укажите Ваш пол'].replace({'Женский':2,'Мужской':1})"
   ]
  },
  {
   "cell_type": "code",
   "execution_count": null,
   "id": "556324d1",
   "metadata": {},
   "outputs": [],
   "source": []
  },
  {
   "cell_type": "code",
   "execution_count": null,
   "id": "daff411c",
   "metadata": {},
   "outputs": [],
   "source": []
  },
  {
   "cell_type": "code",
   "execution_count": 227,
   "id": "e0c33285",
   "metadata": {},
   "outputs": [],
   "source": [
    "df_9_main['2. Укажите Ваш возраст'] = df_9_main['2. Укажите Ваш возраст'].astype(str).replace({'14':'1','15':'2','16':'3'})\n",
    "\n",
    "df_9_main['2. Укажите Ваш возраст'] = df_9_main['2. Укажите Ваш возраст'].apply(lambda x:4 if x not in ('1','2','3')  else x )\n",
    "df_9_main['2. Укажите Ваш возраст'] = df_9_main['2. Укажите Ваш возраст'].astype(int)"
   ]
  },
  {
   "cell_type": "code",
   "execution_count": null,
   "id": "fd77e569",
   "metadata": {},
   "outputs": [],
   "source": []
  },
  {
   "cell_type": "code",
   "execution_count": 228,
   "id": "7cdb5f28",
   "metadata": {},
   "outputs": [
    {
     "data": {
      "text/plain": [
       "город Улан-Удэ                                 3761\n",
       "Селенгинский район                              421\n",
       "Кабанский район                                 400\n",
       "Иволгинский район                               387\n",
       "Заиграевский район                              369\n",
       "Мухоршибирский район                            313\n",
       "Кяхтинский район                                303\n",
       "Хоринский район                                 232\n",
       "Бичурский район                                 212\n",
       "Закаменский район                               212\n",
       "Прибайкальский район                            210\n",
       "Джидинский район                                201\n",
       "город Северобайкальск                           194\n",
       "Тарбагатайский район                            182\n",
       "Еравнинский район                               176\n",
       "Тункинский район                                161\n",
       "Курумканский район                              157\n",
       "Кижингинский район                              135\n",
       "Баргузинский район                              127\n",
       "Северо - Байкальский район                      119\n",
       "Муйский район                                   110\n",
       "Баунтовский эвенкийский муниципальный район      89\n",
       "Окинский район                                   65\n",
       "Name: 3. Укажите Ваше муниципальное образование/ район, dtype: int64"
      ]
     },
     "execution_count": 228,
     "metadata": {},
     "output_type": "execute_result"
    }
   ],
   "source": [
    "df_9_main['3. Укажите Ваше муниципальное образование/ район'].value_counts()"
   ]
  },
  {
   "cell_type": "code",
   "execution_count": 229,
   "id": "901d74b3",
   "metadata": {},
   "outputs": [],
   "source": [
    "#3\n",
    "dct_3 = {'Баргузинский район':1,'Баунтовский эвенкийский муниципальный район':2,'Бичурский район':3,'Джидинский район':4,\n",
    "         'Еравнинский район':5,'Заиграевский район':6,'Закаменский район':7,'Иволгинский район':8,'Кабанский район':9,\n",
    "         'Кижингинский район':10,'Курумканский район':11,'Кяхтинский район':12,'Муйский район':13,'Мухоршибирский район':14,\n",
    "         'Окинский район':15,\n",
    "        'Прибайкальский район':16,'Северо - Байкальский район':17,'Селенгинский район':18,'Тарбагатайский район':19,\n",
    "         'Тункинский район':20,'Хоринский район':21,'город Северобайкальск':22,'город Улан-Удэ':23}\n",
    "\n",
    "df_9_main['3. Укажите Ваше муниципальное образование/ район'] = df_9_main['3. Укажите Ваше муниципальное образование/ район'].replace(dct_3)\n"
   ]
  },
  {
   "cell_type": "code",
   "execution_count": null,
   "id": "a6b6b608",
   "metadata": {},
   "outputs": [],
   "source": []
  },
  {
   "cell_type": "code",
   "execution_count": null,
   "id": "9df6870f",
   "metadata": {},
   "outputs": [],
   "source": []
  },
  {
   "cell_type": "code",
   "execution_count": 230,
   "id": "86671021",
   "metadata": {},
   "outputs": [],
   "source": [
    "df_9_main.replace('None',None,inplace=True)"
   ]
  },
  {
   "cell_type": "code",
   "execution_count": 231,
   "id": "87ac543b",
   "metadata": {},
   "outputs": [],
   "source": [
    "df_9_main.to_excel('9 класс закодированный.xlsx',index=False)"
   ]
  },
  {
   "cell_type": "code",
   "execution_count": 232,
   "id": "131803fb",
   "metadata": {},
   "outputs": [
    {
     "name": "stdout",
     "output_type": "stream",
     "text": [
      "Lindy Booth\n"
     ]
    }
   ],
   "source": [
    "print('Lindy Booth')"
   ]
  },
  {
   "cell_type": "code",
   "execution_count": null,
   "id": "e683ba31",
   "metadata": {},
   "outputs": [],
   "source": []
  },
  {
   "cell_type": "code",
   "execution_count": null,
   "id": "4f17dc86",
   "metadata": {},
   "outputs": [],
   "source": []
  },
  {
   "cell_type": "code",
   "execution_count": null,
   "id": "d9537996",
   "metadata": {},
   "outputs": [],
   "source": []
  },
  {
   "cell_type": "code",
   "execution_count": null,
   "id": "8208e5bd",
   "metadata": {},
   "outputs": [],
   "source": []
  }
 ],
 "metadata": {
  "kernelspec": {
   "display_name": "Python 3 (ipykernel)",
   "language": "python",
   "name": "python3"
  },
  "language_info": {
   "codemirror_mode": {
    "name": "ipython",
    "version": 3
   },
   "file_extension": ".py",
   "mimetype": "text/x-python",
   "name": "python",
   "nbconvert_exporter": "python",
   "pygments_lexer": "ipython3",
   "version": "3.9.13"
  }
 },
 "nbformat": 4,
 "nbformat_minor": 5
}
