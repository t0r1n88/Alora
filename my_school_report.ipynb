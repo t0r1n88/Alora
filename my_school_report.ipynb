{
 "cells": [
  {
   "cell_type": "code",
   "execution_count": 69,
   "id": "8b18f58a",
   "metadata": {},
   "outputs": [],
   "source": [
    "import pandas as pd\n",
    "import openpyxl\n",
    "import warnings\n",
    "warnings.filterwarnings('ignore', category=UserWarning, module='openpyxl')\n",
    "warnings.simplefilter(action=\"ignore\", category=pd.errors.PerformanceWarning)\n",
    "warnings.simplefilter(action='ignore', category=DeprecationWarning)\n",
    "warnings.simplefilter(action='ignore', category=UserWarning)\n",
    "pd.options.mode.chained_assignment = None"
   ]
  },
  {
   "cell_type": "code",
   "execution_count": 70,
   "id": "f2f14254",
   "metadata": {},
   "outputs": [],
   "source": [
    "def check_dupl_inn(value):\n",
    "    \"\"\"\n",
    "    Функция для добавления нуля если количество цифр равно 9\n",
    "    \"\"\"\n",
    "    if len(value) == 9:\n",
    "        return f'0{value}'\n",
    "    else:\n",
    "        return value\n",
    "    "
   ]
  },
  {
   "cell_type": "code",
   "execution_count": 71,
   "id": "c1fa69ca",
   "metadata": {},
   "outputs": [],
   "source": [
    "def check_bur_inn(value:str):\n",
    "    \"\"\"\n",
    "    Функция для проверки начинается ли инн с 03\n",
    "    \"\"\"\n",
    "    if len(value) == 10 and value.startswith('03'):\n",
    "        return f'бурятский ИНН'\n",
    "    else:\n",
    "        return 'неопределенный ИНН'"
   ]
  },
  {
   "cell_type": "code",
   "execution_count": null,
   "id": "56d46dbb",
   "metadata": {},
   "outputs": [],
   "source": []
  },
  {
   "cell_type": "code",
   "execution_count": null,
   "id": "55a53699",
   "metadata": {},
   "outputs": [],
   "source": []
  },
  {
   "cell_type": "code",
   "execution_count": null,
   "id": "6433f7ba",
   "metadata": {},
   "outputs": [],
   "source": []
  },
  {
   "cell_type": "code",
   "execution_count": 72,
   "id": "37db25ef",
   "metadata": {},
   "outputs": [],
   "source": [
    "all_df = pd.read_excel('data/data.xlsx',dtype=str)"
   ]
  },
  {
   "cell_type": "code",
   "execution_count": 73,
   "id": "6f7feb3f",
   "metadata": {},
   "outputs": [],
   "source": [
    "region = 'Республика Бурятия'\n",
    "sferum_student_threshold = 33 # порог для школьников в сферуме\n",
    "sferum_teacher_threshold = 51 # порог для учителей в сферуме\n",
    "myschool_student_threshold = 33 # порог для школьников в моей школе\n",
    "myschool_student_threshold = 33 # порог для учителей в моей школе\n"
   ]
  },
  {
   "cell_type": "code",
   "execution_count": 74,
   "id": "c5d8bc93",
   "metadata": {},
   "outputs": [
    {
     "data": {
      "text/html": [
       "<div>\n",
       "<style scoped>\n",
       "    .dataframe tbody tr th:only-of-type {\n",
       "        vertical-align: middle;\n",
       "    }\n",
       "\n",
       "    .dataframe tbody tr th {\n",
       "        vertical-align: top;\n",
       "    }\n",
       "\n",
       "    .dataframe thead th {\n",
       "        text-align: right;\n",
       "    }\n",
       "</style>\n",
       "<table border=\"1\" class=\"dataframe\">\n",
       "  <thead>\n",
       "    <tr style=\"text-align: right;\">\n",
       "      <th></th>\n",
       "      <th>id</th>\n",
       "      <th>Субъект РФ</th>\n",
       "      <th>Наименование АТО</th>\n",
       "      <th>Краткое наименование организации</th>\n",
       "      <th>Полное наименование организации</th>\n",
       "      <th>Адрес организации</th>\n",
       "      <th>ИНН</th>\n",
       "      <th>Тип поселения</th>\n",
       "      <th>Статус организации\\n(юр.лицо/филиал)</th>\n",
       "      <th>Статус\\nфункционирования</th>\n",
       "      <th>...</th>\n",
       "      <th>Педагоги, использовавшие за последние 12 месяцев Сферум % от общего числа</th>\n",
       "      <th>Обучающиеся, использовавшие за последние 12 месяцев МШ % от общего числа</th>\n",
       "      <th>Педагоги, использовавшие за последние 12 месяцев МШ % от общего числа</th>\n",
       "      <th>Обучающиеся, использовавшие за последние 12 месяцев Сферум\\nБолее 50% - 1\\nМенее 50% - 0</th>\n",
       "      <th>Педагоги, использовавшие за последние 12 месяцев Сферум\\nБолее 50% - 1\\nМенее 50% - 0</th>\n",
       "      <th>Педагоги, использовавшие за последние 12 месяцев Сферум + МШ \\nБолее 50% - 1\\nМенее 50% - 0</th>\n",
       "      <th>Обучающиеся, использовавшие за последние 12 месяцев Сферум + МШ \\nБолее 50% - 1\\nМенее 50% - 0</th>\n",
       "      <th>Обучающиеся, использовавшие за последние 12 месяцев Сферму + МШ и Педагоги Сферум + МШ\\nБолее 50% - 1\\nМенее 50% - 0</th>\n",
       "      <th>Обучающиеся, использовавшие за последние 12 месяцев МШ\\nБолее 50% - 1\\nМенее 50% - 0</th>\n",
       "      <th>Педагоги, использовавшие за последние 12 месяцев МШ\\nБолее 50% - 1\\nМенее 50% - 0</th>\n",
       "    </tr>\n",
       "  </thead>\n",
       "  <tbody>\n",
       "    <tr>\n",
       "      <th>0</th>\n",
       "      <td>16675</td>\n",
       "      <td>Алтайский край</td>\n",
       "      <td>Алейский</td>\n",
       "      <td>МБОУ \"Большепанюшевская СОШ\"</td>\n",
       "      <td>МБОУ \"Большепанюшевская СОШ\" Алейского района,...</td>\n",
       "      <td>658101 Алтайский край, Алейский район, село Бо...</td>\n",
       "      <td>2231003612</td>\n",
       "      <td>сельская местность</td>\n",
       "      <td>юридическое лицо</td>\n",
       "      <td>действующая</td>\n",
       "      <td>...</td>\n",
       "      <td>0.9130434782608695</td>\n",
       "      <td>0.03333333333333333</td>\n",
       "      <td>1.0869565217391304</td>\n",
       "      <td>0</td>\n",
       "      <td>1</td>\n",
       "      <td>1</td>\n",
       "      <td>0</td>\n",
       "      <td>0</td>\n",
       "      <td>0</td>\n",
       "      <td>1</td>\n",
       "    </tr>\n",
       "  </tbody>\n",
       "</table>\n",
       "<p>1 rows × 32 columns</p>\n",
       "</div>"
      ],
      "text/plain": [
       "      id      Субъект РФ Наименование АТО Краткое наименование организации  \\\n",
       "0  16675  Алтайский край         Алейский     МБОУ \"Большепанюшевская СОШ\"   \n",
       "\n",
       "                     Полное наименование организации  \\\n",
       "0  МБОУ \"Большепанюшевская СОШ\" Алейского района,...   \n",
       "\n",
       "                                   Адрес организации         ИНН  \\\n",
       "0  658101 Алтайский край, Алейский район, село Бо...  2231003612   \n",
       "\n",
       "        Тип поселения Статус организации\\n(юр.лицо/филиал)  \\\n",
       "0  сельская местность                     юридическое лицо   \n",
       "\n",
       "  Статус\\nфункционирования  ...  \\\n",
       "0              действующая  ...   \n",
       "\n",
       "  Педагоги, использовавшие за последние 12 месяцев Сферум % от общего числа  \\\n",
       "0                                 0.9130434782608695                          \n",
       "\n",
       "  Обучающиеся, использовавшие за последние 12 месяцев МШ % от общего числа  \\\n",
       "0                                0.03333333333333333                         \n",
       "\n",
       "  Педагоги, использовавшие за последние 12 месяцев МШ % от общего числа  \\\n",
       "0                                 1.0869565217391304                      \n",
       "\n",
       "  Обучающиеся, использовавшие за последние 12 месяцев Сферум\\nБолее 50% - 1\\nМенее 50% - 0  \\\n",
       "0                                                  0                                         \n",
       "\n",
       "  Педагоги, использовавшие за последние 12 месяцев Сферум\\nБолее 50% - 1\\nМенее 50% - 0  \\\n",
       "0                                                  1                                      \n",
       "\n",
       "  Педагоги, использовавшие за последние 12 месяцев Сферум + МШ \\nБолее 50% - 1\\nМенее 50% - 0  \\\n",
       "0                                                  1                                            \n",
       "\n",
       "  Обучающиеся, использовавшие за последние 12 месяцев Сферум + МШ \\nБолее 50% - 1\\nМенее 50% - 0  \\\n",
       "0                                                  0                                               \n",
       "\n",
       "  Обучающиеся, использовавшие за последние 12 месяцев Сферму + МШ и Педагоги Сферум + МШ\\nБолее 50% - 1\\nМенее 50% - 0  \\\n",
       "0                                                  0                                                                     \n",
       "\n",
       "  Обучающиеся, использовавшие за последние 12 месяцев МШ\\nБолее 50% - 1\\nМенее 50% - 0  \\\n",
       "0                                                  0                                     \n",
       "\n",
       "  Педагоги, использовавшие за последние 12 месяцев МШ\\nБолее 50% - 1\\nМенее 50% - 0  \n",
       "0                                                  1                                 \n",
       "\n",
       "[1 rows x 32 columns]"
      ]
     },
     "execution_count": 74,
     "metadata": {},
     "output_type": "execute_result"
    }
   ],
   "source": [
    "all_df.head(1)"
   ]
  },
  {
   "cell_type": "code",
   "execution_count": 75,
   "id": "f6979578",
   "metadata": {},
   "outputs": [
    {
     "data": {
      "text/plain": [
       "Index(['id', 'Субъект РФ', 'Наименование АТО',\n",
       "       'Краткое наименование организации', 'Полное наименование организации',\n",
       "       'Адрес организации', 'ИНН', 'Тип поселения',\n",
       "       'Статус организации\\n(юр.лицо/филиал)', 'Статус\\nфункционирования',\n",
       "       'Государственная/негосударственная организация (ГОУ/НОУ)',\n",
       "       'Численность обучающихся\\nвсего, чел. (Раздел 1.3. стр.01 гр.3)',\n",
       "       'Численность педработников - всего, чел. (Раздел 3.1 стр.06 гр.3)',\n",
       "       'Обучающиеся Сферум (чел)', 'Обучающиеся МШ (чел)',\n",
       "       'Обучающиеся Cферум или МШ (чел)',\n",
       "       'Обучающиеся, использовавшие за последние 12 месяцев Сферум',\n",
       "       ' Педагоги, использовавшие за последние 12 месяцев Сферум',\n",
       "       'Обучающиеся, использовавшие за последние 12 месяцев МШ',\n",
       "       ' Педагоги, использовавшие за последние 12 месяцев МШ',\n",
       "       'Педагоги, использовавшие за последние 12 месяцев Сферум или МШ (чел)',\n",
       "       'Обучающиеся, использовавшие за последние 12 месяцев Сферум % от общего числа',\n",
       "       'Педагоги, использовавшие за последние 12 месяцев Сферум % от общего числа',\n",
       "       'Обучающиеся, использовавшие за последние 12 месяцев МШ % от общего числа',\n",
       "       'Педагоги, использовавшие за последние 12 месяцев МШ % от общего числа',\n",
       "       'Обучающиеся, использовавшие за последние 12 месяцев Сферум\\nБолее 50% - 1\\nМенее 50% - 0',\n",
       "       'Педагоги, использовавшие за последние 12 месяцев Сферум\\nБолее 50% - 1\\nМенее 50% - 0',\n",
       "       'Педагоги, использовавшие за последние 12 месяцев Сферум + МШ \\nБолее 50% - 1\\nМенее 50% - 0',\n",
       "       'Обучающиеся, использовавшие за последние 12 месяцев Сферум + МШ \\nБолее 50% - 1\\nМенее 50% - 0',\n",
       "       'Обучающиеся, использовавшие за последние 12 месяцев Сферму + МШ и Педагоги Сферум + МШ\\nБолее 50% - 1\\nМенее 50% - 0',\n",
       "       'Обучающиеся, использовавшие за последние 12 месяцев МШ\\nБолее 50% - 1\\nМенее 50% - 0',\n",
       "       'Педагоги, использовавшие за последние 12 месяцев МШ\\nБолее 50% - 1\\nМенее 50% - 0'],\n",
       "      dtype='object')"
      ]
     },
     "execution_count": 75,
     "metadata": {},
     "output_type": "execute_result"
    }
   ],
   "source": [
    "all_df.columns"
   ]
  },
  {
   "cell_type": "code",
   "execution_count": 76,
   "id": "c513d89d",
   "metadata": {},
   "outputs": [
    {
     "data": {
      "text/plain": [
       "(38903, 32)"
      ]
     },
     "execution_count": 76,
     "metadata": {},
     "output_type": "execute_result"
    }
   ],
   "source": [
    "all_df.shape"
   ]
  },
  {
   "cell_type": "code",
   "execution_count": 77,
   "id": "3330fdc4",
   "metadata": {},
   "outputs": [],
   "source": [
    "#Фильруем датафрейм\n",
    "\n",
    "df = all_df[all_df['Субъект РФ'] == region]"
   ]
  },
  {
   "cell_type": "code",
   "execution_count": 78,
   "id": "f4e9a649",
   "metadata": {},
   "outputs": [
    {
     "data": {
      "text/plain": [
       "(464, 32)"
      ]
     },
     "execution_count": 78,
     "metadata": {},
     "output_type": "execute_result"
    }
   ],
   "source": [
    "df.shape"
   ]
  },
  {
   "cell_type": "code",
   "execution_count": 79,
   "id": "2e4c3b8a",
   "metadata": {},
   "outputs": [],
   "source": [
    "df['ИНН'] = df['ИНН'].fillna('пустой') # заполняем наны \n",
    "df['ИНН'] = df['ИНН'].astype(str) # заполняем наны "
   ]
  },
  {
   "cell_type": "code",
   "execution_count": 80,
   "id": "8fe8f776",
   "metadata": {},
   "outputs": [
    {
     "data": {
      "text/plain": [
       "20549     319002490\n",
       "20550     323055021\n",
       "20551     302101485\n",
       "20552     314004542\n",
       "20553    0307008401\n",
       "            ...    \n",
       "21008    0323091735\n",
       "21009    0323092048\n",
       "21010    0323092810\n",
       "21011    0323098554\n",
       "21012    0323092584\n",
       "Name: ИНН, Length: 464, dtype: object"
      ]
     },
     "execution_count": 80,
     "metadata": {},
     "output_type": "execute_result"
    }
   ],
   "source": [
    "df['ИНН']"
   ]
  },
  {
   "cell_type": "code",
   "execution_count": 81,
   "id": "077840dd",
   "metadata": {},
   "outputs": [],
   "source": [
    "# Обрабатываем ИНН, должно быть 10 цифр\n",
    "df.insert(7,'ИНН количество цифр',df['ИНН'].apply(lambda x: len(x)))"
   ]
  },
  {
   "cell_type": "code",
   "execution_count": 82,
   "id": "74ef56c5",
   "metadata": {},
   "outputs": [],
   "source": [
    "# Проверям начинается ли ИНН с 03\n",
    "df.insert(8,'Бурятский ИНН',df['ИНН'].apply(check_bur_inn))"
   ]
  },
  {
   "cell_type": "code",
   "execution_count": 83,
   "id": "d6c887e0",
   "metadata": {},
   "outputs": [],
   "source": [
    "# Добавляем нули для поиска дубликатов\n",
    "df.insert(9,'Для проверки дубликатов',df['ИНН'].apply(check_dupl_inn))"
   ]
  },
  {
   "cell_type": "code",
   "execution_count": null,
   "id": "3719e0fb",
   "metadata": {},
   "outputs": [],
   "source": []
  },
  {
   "cell_type": "code",
   "execution_count": null,
   "id": "0fe5319c",
   "metadata": {},
   "outputs": [],
   "source": []
  },
  {
   "cell_type": "code",
   "execution_count": null,
   "id": "0dc38d58",
   "metadata": {},
   "outputs": [],
   "source": []
  },
  {
   "cell_type": "code",
   "execution_count": 84,
   "id": "4b964386",
   "metadata": {},
   "outputs": [],
   "source": [
    "df.to_excel('data/itog.xlsx',index=False)"
   ]
  },
  {
   "cell_type": "code",
   "execution_count": null,
   "id": "9eb806a6",
   "metadata": {},
   "outputs": [],
   "source": []
  },
  {
   "cell_type": "code",
   "execution_count": 85,
   "id": "ac2c801e",
   "metadata": {},
   "outputs": [
    {
     "data": {
      "text/plain": [
       "'Lindy Booth'"
      ]
     },
     "execution_count": 85,
     "metadata": {},
     "output_type": "execute_result"
    }
   ],
   "source": [
    "'Lindy Booth'"
   ]
  },
  {
   "cell_type": "code",
   "execution_count": null,
   "id": "aead35af",
   "metadata": {},
   "outputs": [],
   "source": []
  },
  {
   "cell_type": "code",
   "execution_count": null,
   "id": "3ab58111",
   "metadata": {},
   "outputs": [],
   "source": []
  },
  {
   "cell_type": "code",
   "execution_count": null,
   "id": "a833553b",
   "metadata": {},
   "outputs": [],
   "source": []
  }
 ],
 "metadata": {
  "kernelspec": {
   "display_name": "Python 3 (ipykernel)",
   "language": "python",
   "name": "python3"
  },
  "language_info": {
   "codemirror_mode": {
    "name": "ipython",
    "version": 3
   },
   "file_extension": ".py",
   "mimetype": "text/x-python",
   "name": "python",
   "nbconvert_exporter": "python",
   "pygments_lexer": "ipython3",
   "version": "3.9.13"
  }
 },
 "nbformat": 4,
 "nbformat_minor": 5
}
