{
 "cells": [
  {
   "cell_type": "code",
   "execution_count": 37,
   "id": "43eb466c",
   "metadata": {},
   "outputs": [
    {
     "data": {
      "text/plain": [
       "'\\nСкрипт для обработки данных полученных из яндекс формы по изучению возможностей ПОО к организации кружков для школьников\\n'"
      ]
     },
     "execution_count": 37,
     "metadata": {},
     "output_type": "execute_result"
    }
   ],
   "source": [
    "\"\"\"\n",
    "Скрипт для обработки данных полученных из яндекс формы по изучению возможностей ПОО к организации кружков для школьников\n",
    "\"\"\""
   ]
  },
  {
   "cell_type": "code",
   "execution_count": 38,
   "id": "1348fdea",
   "metadata": {},
   "outputs": [],
   "source": [
    "import pandas as pd\n",
    "import openpyxl"
   ]
  },
  {
   "cell_type": "code",
   "execution_count": 39,
   "id": "9626885c",
   "metadata": {},
   "outputs": [],
   "source": [
    "df = pd.read_excel('data/Мониторинг  ПОО кружки.xlsx')\n",
    "df = df.iloc[:,2:] # отсекаем колонки со служебной информацией яндекса\n",
    "df.fillna('Пусто',inplace=True) # заполняем пустоту\n",
    "df=df.applymap(str)\n",
    "out_df = pd.DataFrame(columns=['ПОО','ФИО заполнившего','Должность','Телефон','Мастерская','Кружок','Количество рабочих мест','Условия для проведения'])"
   ]
  },
  {
   "cell_type": "code",
   "execution_count": 40,
   "id": "419edc0b",
   "metadata": {},
   "outputs": [
    {
     "data": {
      "text/html": [
       "<div>\n",
       "<style scoped>\n",
       "    .dataframe tbody tr th:only-of-type {\n",
       "        vertical-align: middle;\n",
       "    }\n",
       "\n",
       "    .dataframe tbody tr th {\n",
       "        vertical-align: top;\n",
       "    }\n",
       "\n",
       "    .dataframe thead th {\n",
       "        text-align: right;\n",
       "    }\n",
       "</style>\n",
       "<table border=\"1\" class=\"dataframe\">\n",
       "  <thead>\n",
       "    <tr style=\"text-align: right;\">\n",
       "      <th></th>\n",
       "      <th>Выберите свое ПОО</th>\n",
       "      <th>ФИО заполняющего</th>\n",
       "      <th>Должность</th>\n",
       "      <th>Номер телефона заполняющего</th>\n",
       "      <th>Укажите серию, номер, дату выдачи лицензии на реализацию программ дополнительного образования  и срок ее действия</th>\n",
       "      <th>Название мастерской [1]</th>\n",
       "      <th>Наименование программ дополнительного образования для обучающихся общеобразовательных организаций, которые возможно проводить в данной мастерской [1]</th>\n",
       "      <th>Количество рабочих мест (сколько школьников могут заниматься одновременно) [1]</th>\n",
       "      <th>Требуемые ресурсы для проведения [1]</th>\n",
       "      <th>Название мастерской [2]</th>\n",
       "      <th>...</th>\n",
       "      <th>Требуемые ресурсы для проведения [2]</th>\n",
       "      <th>Название мастерской [3]</th>\n",
       "      <th>Наименование программ дополнительного образования для обучающихся общеобразовательных организаций, которые возможно проводить в данной мастерской [3]</th>\n",
       "      <th>Количество рабочих мест (сколько школьников могут заниматься одновременно) [3]</th>\n",
       "      <th>Требуемые ресурсы для проведения [3]</th>\n",
       "      <th>Кого вы будете привлекать в качестве  преподавателей программ дополнительного образования обучающихся общеобразовательных организаций. / Преподаватели/мастера/сотрудники, которые работают в ПОО</th>\n",
       "      <th>Кого вы будете привлекать в качестве  преподавателей программ дополнительного образования обучающихся общеобразовательных организаций. / Студенты старших курсов ПОО</th>\n",
       "      <th>Кого вы будете привлекать в качестве  преподавателей программ дополнительного образования обучающихся общеобразовательных организаций. / Студенты ВУЗов</th>\n",
       "      <th>Кого вы будете привлекать в качестве  преподавателей программ дополнительного образования обучающихся общеобразовательных организаций. / Наемные преподаватели (по договору ГПХ, например представители работодателя-партнера и т.д.)</th>\n",
       "      <th>Кого вы будете привлекать в качестве  преподавателей программ дополнительного образования обучающихся общеобразовательных организаций. / Другое</th>\n",
       "    </tr>\n",
       "  </thead>\n",
       "  <tbody>\n",
       "    <tr>\n",
       "      <th>0</th>\n",
       "      <td>Улан-Удэнский авиационный техникум (УУАТ)</td>\n",
       "      <td>Иванов Иван Иванович</td>\n",
       "      <td>заместитель директора</td>\n",
       "      <td>8950315855</td>\n",
       "      <td>№ 14</td>\n",
       "      <td>IT</td>\n",
       "      <td>Юный программист</td>\n",
       "      <td>8</td>\n",
       "      <td>ничего</td>\n",
       "      <td>Пусто</td>\n",
       "      <td>...</td>\n",
       "      <td>Пусто</td>\n",
       "      <td>Пусто</td>\n",
       "      <td>Пусто</td>\n",
       "      <td>Пусто</td>\n",
       "      <td>Пусто</td>\n",
       "      <td>Преподаватели/мастера/сотрудники, которые рабо...</td>\n",
       "      <td>Студенты старших курсов ПОО</td>\n",
       "      <td>Пусто</td>\n",
       "      <td>Наемные преподаватели (по договору ГПХ, наприм...</td>\n",
       "      <td>Пусто</td>\n",
       "    </tr>\n",
       "    <tr>\n",
       "      <th>1</th>\n",
       "      <td>Бурятский республиканский информационно-эконом...</td>\n",
       "      <td>Лужие  Павел Сихайлович</td>\n",
       "      <td>директор</td>\n",
       "      <td>89421245455</td>\n",
       "      <td>345345</td>\n",
       "      <td>Локомотив</td>\n",
       "      <td>Железнодорожное движение для школьников</td>\n",
       "      <td>15</td>\n",
       "      <td>10 тысяч на оплату труда педагога, 25 метров к...</td>\n",
       "      <td>Слесарная</td>\n",
       "      <td>...</td>\n",
       "      <td>•\\tЗачем это нужно\\n•\\tПоказать заполненные фа...</td>\n",
       "      <td>Ветеринария</td>\n",
       "      <td>Юный животновод</td>\n",
       "      <td>5.0</td>\n",
       "      <td>5 баранов</td>\n",
       "      <td>Преподаватели/мастера/сотрудники, которые рабо...</td>\n",
       "      <td>Студенты старших курсов ПОО</td>\n",
       "      <td>Студенты ВУЗов</td>\n",
       "      <td>Наемные преподаватели (по договору ГПХ, наприм...</td>\n",
       "      <td>Другое</td>\n",
       "    </tr>\n",
       "  </tbody>\n",
       "</table>\n",
       "<p>2 rows × 22 columns</p>\n",
       "</div>"
      ],
      "text/plain": [
       "                                   Выберите свое ПОО         ФИО заполняющего  \\\n",
       "0          Улан-Удэнский авиационный техникум (УУАТ)     Иванов Иван Иванович   \n",
       "1  Бурятский республиканский информационно-эконом...  Лужие  Павел Сихайлович   \n",
       "\n",
       "               Должность Номер телефона заполняющего  \\\n",
       "0  заместитель директора                  8950315855   \n",
       "1               директор                 89421245455   \n",
       "\n",
       "  Укажите серию, номер, дату выдачи лицензии на реализацию программ дополнительного образования  и срок ее действия  \\\n",
       "0                                               № 14                                                                  \n",
       "1                                             345345                                                                  \n",
       "\n",
       "  Название мастерской [1]  \\\n",
       "0                      IT   \n",
       "1               Локомотив   \n",
       "\n",
       "  Наименование программ дополнительного образования для обучающихся общеобразовательных организаций, которые возможно проводить в данной мастерской [1]  \\\n",
       "0                                   Юный программист                                                                                                      \n",
       "1            Железнодорожное движение для школьников                                                                                                      \n",
       "\n",
       "  Количество рабочих мест (сколько школьников могут заниматься одновременно) [1]  \\\n",
       "0                                                  8                               \n",
       "1                                                 15                               \n",
       "\n",
       "                Требуемые ресурсы для проведения [1] Название мастерской [2]  \\\n",
       "0                                             ничего                   Пусто   \n",
       "1  10 тысяч на оплату труда педагога, 25 метров к...               Слесарная   \n",
       "\n",
       "   ...               Требуемые ресурсы для проведения [2]  \\\n",
       "0  ...                                              Пусто   \n",
       "1  ...  •\\tЗачем это нужно\\n•\\tПоказать заполненные фа...   \n",
       "\n",
       "  Название мастерской [3]  \\\n",
       "0                   Пусто   \n",
       "1             Ветеринария   \n",
       "\n",
       "  Наименование программ дополнительного образования для обучающихся общеобразовательных организаций, которые возможно проводить в данной мастерской [3]  \\\n",
       "0                                              Пусто                                                                                                      \n",
       "1                                    Юный животновод                                                                                                      \n",
       "\n",
       "  Количество рабочих мест (сколько школьников могут заниматься одновременно) [3]  \\\n",
       "0                                              Пусто                               \n",
       "1                                                5.0                               \n",
       "\n",
       "  Требуемые ресурсы для проведения [3]  \\\n",
       "0                                Пусто   \n",
       "1                            5 баранов   \n",
       "\n",
       "  Кого вы будете привлекать в качестве  преподавателей программ дополнительного образования обучающихся общеобразовательных организаций. / Преподаватели/мастера/сотрудники, которые работают в ПОО  \\\n",
       "0  Преподаватели/мастера/сотрудники, которые рабо...                                                                                                                                                  \n",
       "1  Преподаватели/мастера/сотрудники, которые рабо...                                                                                                                                                  \n",
       "\n",
       "  Кого вы будете привлекать в качестве  преподавателей программ дополнительного образования обучающихся общеобразовательных организаций. / Студенты старших курсов ПОО  \\\n",
       "0                        Студенты старших курсов ПОО                                                                                                                     \n",
       "1                        Студенты старших курсов ПОО                                                                                                                     \n",
       "\n",
       "  Кого вы будете привлекать в качестве  преподавателей программ дополнительного образования обучающихся общеобразовательных организаций. / Студенты ВУЗов  \\\n",
       "0                                              Пусто                                                                                                        \n",
       "1                                     Студенты ВУЗов                                                                                                        \n",
       "\n",
       "  Кого вы будете привлекать в качестве  преподавателей программ дополнительного образования обучающихся общеобразовательных организаций. / Наемные преподаватели (по договору ГПХ, например представители работодателя-партнера и т.д.)  \\\n",
       "0  Наемные преподаватели (по договору ГПХ, наприм...                                                                                                                                                                                      \n",
       "1  Наемные преподаватели (по договору ГПХ, наприм...                                                                                                                                                                                      \n",
       "\n",
       "  Кого вы будете привлекать в качестве  преподавателей программ дополнительного образования обучающихся общеобразовательных организаций. / Другое  \n",
       "0                                              Пусто                                                                                               \n",
       "1                                             Другое                                                                                               \n",
       "\n",
       "[2 rows x 22 columns]"
      ]
     },
     "execution_count": 40,
     "metadata": {},
     "output_type": "execute_result"
    }
   ],
   "source": [
    "df"
   ]
  },
  {
   "cell_type": "code",
   "execution_count": 41,
   "id": "736ab5f3",
   "metadata": {},
   "outputs": [],
   "source": [
    "border = 5 #  количество колонок с информацией о ПОО\n",
    "offset = 4 # количество колонок которые занимают данные по мастерским\n",
    "# максимальное количество мастерских\n",
    "number_mastery = len([name_column for name_column in df.columns if 'Название мастерской' in name_column])\n",
    "threshold =border + offset * number_mastery\n"
   ]
  },
  {
   "cell_type": "code",
   "execution_count": 42,
   "id": "afbb7b86",
   "metadata": {},
   "outputs": [
    {
     "data": {
      "text/plain": [
       "Index(['Название мастерской [1]',\n",
       "       'Наименование программ дополнительного образования для обучающихся общеобразовательных организаций, которые возможно проводить в данной мастерской [1]',\n",
       "       'Количество рабочих мест (сколько школьников могут заниматься одновременно) [1]',\n",
       "       'Требуемые ресурсы для проведения [1]', 'Название мастерской [2]',\n",
       "       'Наименование программ дополнительного образования для обучающихся общеобразовательных организаций, которые возможно проводить в данной мастерской [2]',\n",
       "       'Количество рабочих мест (сколько школьников могут заниматься одновременно) [2]',\n",
       "       'Требуемые ресурсы для проведения [2]', 'Название мастерской [3]',\n",
       "       'Наименование программ дополнительного образования для обучающихся общеобразовательных организаций, которые возможно проводить в данной мастерской [3]',\n",
       "       'Количество рабочих мест (сколько школьников могут заниматься одновременно) [3]',\n",
       "       'Требуемые ресурсы для проведения [3]'],\n",
       "      dtype='object')"
      ]
     },
     "execution_count": 42,
     "metadata": {},
     "output_type": "execute_result"
    }
   ],
   "source": [
    "df.iloc[:,border:threshold].columns"
   ]
  },
  {
   "cell_type": "code",
   "execution_count": 53,
   "id": "d0ae419a",
   "metadata": {},
   "outputs": [
    {
     "name": "stdout",
     "output_type": "stream",
     "text": [
      "['Улан-Удэнский авиационный техникум (УУАТ)', 'Иванов Иван Иванович', 'заместитель директора', '8950315855', '№ 14']\n",
      "['IT', 'Юный программист', '8', 'ничего']\n",
      "['Улан-Удэнский авиационный техникум (УУАТ)', 'Иванов Иван Иванович', 'заместитель директора', '8950315855', '№ 14', 'IT', 'Юный программист', '8', 'ничего']\n"
     ]
    },
    {
     "ename": "ValueError",
     "evalue": "8 columns passed, passed data had 9 columns",
     "output_type": "error",
     "traceback": [
      "\u001b[1;31m---------------------------------------------------------------------------\u001b[0m",
      "\u001b[1;31mAssertionError\u001b[0m                            Traceback (most recent call last)",
      "\u001b[1;32m~\\anaconda3\\lib\\site-packages\\pandas\\core\\internals\\construction.py\u001b[0m in \u001b[0;36m_finalize_columns_and_data\u001b[1;34m(content, columns, dtype)\u001b[0m\n\u001b[0;32m    968\u001b[0m     \u001b[1;32mtry\u001b[0m\u001b[1;33m:\u001b[0m\u001b[1;33m\u001b[0m\u001b[1;33m\u001b[0m\u001b[0m\n\u001b[1;32m--> 969\u001b[1;33m         \u001b[0mcolumns\u001b[0m \u001b[1;33m=\u001b[0m \u001b[0m_validate_or_indexify_columns\u001b[0m\u001b[1;33m(\u001b[0m\u001b[0mcontents\u001b[0m\u001b[1;33m,\u001b[0m \u001b[0mcolumns\u001b[0m\u001b[1;33m)\u001b[0m\u001b[1;33m\u001b[0m\u001b[1;33m\u001b[0m\u001b[0m\n\u001b[0m\u001b[0;32m    970\u001b[0m     \u001b[1;32mexcept\u001b[0m \u001b[0mAssertionError\u001b[0m \u001b[1;32mas\u001b[0m \u001b[0merr\u001b[0m\u001b[1;33m:\u001b[0m\u001b[1;33m\u001b[0m\u001b[1;33m\u001b[0m\u001b[0m\n",
      "\u001b[1;32m~\\anaconda3\\lib\\site-packages\\pandas\\core\\internals\\construction.py\u001b[0m in \u001b[0;36m_validate_or_indexify_columns\u001b[1;34m(content, columns)\u001b[0m\n\u001b[0;32m   1016\u001b[0m             \u001b[1;31m# caller's responsibility to check for this...\u001b[0m\u001b[1;33m\u001b[0m\u001b[1;33m\u001b[0m\u001b[0m\n\u001b[1;32m-> 1017\u001b[1;33m             raise AssertionError(\n\u001b[0m\u001b[0;32m   1018\u001b[0m                 \u001b[1;34mf\"{len(columns)} columns passed, passed data had \"\u001b[0m\u001b[1;33m\u001b[0m\u001b[1;33m\u001b[0m\u001b[0m\n",
      "\u001b[1;31mAssertionError\u001b[0m: 8 columns passed, passed data had 9 columns",
      "\nThe above exception was the direct cause of the following exception:\n",
      "\u001b[1;31mValueError\u001b[0m                                Traceback (most recent call last)",
      "\u001b[1;32m~\\AppData\\Local\\Temp\\ipykernel_6268\\3378968321.py\u001b[0m in \u001b[0;36m<module>\u001b[1;34m\u001b[0m\n\u001b[0;32m     10\u001b[0m             \u001b[0mtemp_lst\u001b[0m\u001b[1;33m.\u001b[0m\u001b[0mextend\u001b[0m\u001b[1;33m(\u001b[0m\u001b[0mdata\u001b[0m\u001b[1;33m)\u001b[0m\u001b[1;33m\u001b[0m\u001b[1;33m\u001b[0m\u001b[0m\n\u001b[0;32m     11\u001b[0m             \u001b[0mprint\u001b[0m\u001b[1;33m(\u001b[0m\u001b[0mtemp_lst\u001b[0m\u001b[1;33m)\u001b[0m\u001b[1;33m\u001b[0m\u001b[1;33m\u001b[0m\u001b[0m\n\u001b[1;32m---> 12\u001b[1;33m             temp_row = pd.DataFrame(columns=['ПОО','ФИО заполнившего',\n\u001b[0m\u001b[0;32m     13\u001b[0m                                              \u001b[1;34m'Должность'\u001b[0m\u001b[1;33m,\u001b[0m\u001b[1;34m'Телефон'\u001b[0m\u001b[1;33m,\u001b[0m\u001b[1;34m'Мастерская'\u001b[0m\u001b[1;33m,\u001b[0m\u001b[1;34m'Кружок'\u001b[0m\u001b[1;33m,\u001b[0m\u001b[1;34m'Количество рабочих мест'\u001b[0m\u001b[1;33m,\u001b[0m\u001b[1;33m\u001b[0m\u001b[1;33m\u001b[0m\u001b[0m\n\u001b[0;32m     14\u001b[0m                                              'Условия для проведения'],\n",
      "\u001b[1;32m~\\anaconda3\\lib\\site-packages\\pandas\\core\\frame.py\u001b[0m in \u001b[0;36m__init__\u001b[1;34m(self, data, index, columns, dtype, copy)\u001b[0m\n\u001b[0;32m    744\u001b[0m                     \u001b[1;32mif\u001b[0m \u001b[0mcolumns\u001b[0m \u001b[1;32mis\u001b[0m \u001b[1;32mnot\u001b[0m \u001b[1;32mNone\u001b[0m\u001b[1;33m:\u001b[0m\u001b[1;33m\u001b[0m\u001b[1;33m\u001b[0m\u001b[0m\n\u001b[0;32m    745\u001b[0m                         \u001b[0mcolumns\u001b[0m \u001b[1;33m=\u001b[0m \u001b[0mensure_index\u001b[0m\u001b[1;33m(\u001b[0m\u001b[0mcolumns\u001b[0m\u001b[1;33m)\u001b[0m\u001b[1;33m\u001b[0m\u001b[1;33m\u001b[0m\u001b[0m\n\u001b[1;32m--> 746\u001b[1;33m                     arrays, columns, index = nested_data_to_arrays(\n\u001b[0m\u001b[0;32m    747\u001b[0m                         \u001b[1;31m# error: Argument 3 to \"nested_data_to_arrays\" has incompatible\u001b[0m\u001b[1;33m\u001b[0m\u001b[1;33m\u001b[0m\u001b[0m\n\u001b[0;32m    748\u001b[0m                         \u001b[1;31m# type \"Optional[Collection[Any]]\"; expected \"Optional[Index]\"\u001b[0m\u001b[1;33m\u001b[0m\u001b[1;33m\u001b[0m\u001b[0m\n",
      "\u001b[1;32m~\\anaconda3\\lib\\site-packages\\pandas\\core\\internals\\construction.py\u001b[0m in \u001b[0;36mnested_data_to_arrays\u001b[1;34m(data, columns, index, dtype)\u001b[0m\n\u001b[0;32m    508\u001b[0m         \u001b[0mcolumns\u001b[0m \u001b[1;33m=\u001b[0m \u001b[0mensure_index\u001b[0m\u001b[1;33m(\u001b[0m\u001b[0mdata\u001b[0m\u001b[1;33m[\u001b[0m\u001b[1;36m0\u001b[0m\u001b[1;33m]\u001b[0m\u001b[1;33m.\u001b[0m\u001b[0m_fields\u001b[0m\u001b[1;33m)\u001b[0m\u001b[1;33m\u001b[0m\u001b[1;33m\u001b[0m\u001b[0m\n\u001b[0;32m    509\u001b[0m \u001b[1;33m\u001b[0m\u001b[0m\n\u001b[1;32m--> 510\u001b[1;33m     \u001b[0marrays\u001b[0m\u001b[1;33m,\u001b[0m \u001b[0mcolumns\u001b[0m \u001b[1;33m=\u001b[0m \u001b[0mto_arrays\u001b[0m\u001b[1;33m(\u001b[0m\u001b[0mdata\u001b[0m\u001b[1;33m,\u001b[0m \u001b[0mcolumns\u001b[0m\u001b[1;33m,\u001b[0m \u001b[0mdtype\u001b[0m\u001b[1;33m=\u001b[0m\u001b[0mdtype\u001b[0m\u001b[1;33m)\u001b[0m\u001b[1;33m\u001b[0m\u001b[1;33m\u001b[0m\u001b[0m\n\u001b[0m\u001b[0;32m    511\u001b[0m     \u001b[0mcolumns\u001b[0m \u001b[1;33m=\u001b[0m \u001b[0mensure_index\u001b[0m\u001b[1;33m(\u001b[0m\u001b[0mcolumns\u001b[0m\u001b[1;33m)\u001b[0m\u001b[1;33m\u001b[0m\u001b[1;33m\u001b[0m\u001b[0m\n\u001b[0;32m    512\u001b[0m \u001b[1;33m\u001b[0m\u001b[0m\n",
      "\u001b[1;32m~\\anaconda3\\lib\\site-packages\\pandas\\core\\internals\\construction.py\u001b[0m in \u001b[0;36mto_arrays\u001b[1;34m(data, columns, dtype)\u001b[0m\n\u001b[0;32m    873\u001b[0m         \u001b[0marr\u001b[0m \u001b[1;33m=\u001b[0m \u001b[0m_list_to_arrays\u001b[0m\u001b[1;33m(\u001b[0m\u001b[0mdata\u001b[0m\u001b[1;33m)\u001b[0m\u001b[1;33m\u001b[0m\u001b[1;33m\u001b[0m\u001b[0m\n\u001b[0;32m    874\u001b[0m \u001b[1;33m\u001b[0m\u001b[0m\n\u001b[1;32m--> 875\u001b[1;33m     \u001b[0mcontent\u001b[0m\u001b[1;33m,\u001b[0m \u001b[0mcolumns\u001b[0m \u001b[1;33m=\u001b[0m \u001b[0m_finalize_columns_and_data\u001b[0m\u001b[1;33m(\u001b[0m\u001b[0marr\u001b[0m\u001b[1;33m,\u001b[0m \u001b[0mcolumns\u001b[0m\u001b[1;33m,\u001b[0m \u001b[0mdtype\u001b[0m\u001b[1;33m)\u001b[0m\u001b[1;33m\u001b[0m\u001b[1;33m\u001b[0m\u001b[0m\n\u001b[0m\u001b[0;32m    876\u001b[0m     \u001b[1;32mreturn\u001b[0m \u001b[0mcontent\u001b[0m\u001b[1;33m,\u001b[0m \u001b[0mcolumns\u001b[0m\u001b[1;33m\u001b[0m\u001b[1;33m\u001b[0m\u001b[0m\n\u001b[0;32m    877\u001b[0m \u001b[1;33m\u001b[0m\u001b[0m\n",
      "\u001b[1;32m~\\anaconda3\\lib\\site-packages\\pandas\\core\\internals\\construction.py\u001b[0m in \u001b[0;36m_finalize_columns_and_data\u001b[1;34m(content, columns, dtype)\u001b[0m\n\u001b[0;32m    970\u001b[0m     \u001b[1;32mexcept\u001b[0m \u001b[0mAssertionError\u001b[0m \u001b[1;32mas\u001b[0m \u001b[0merr\u001b[0m\u001b[1;33m:\u001b[0m\u001b[1;33m\u001b[0m\u001b[1;33m\u001b[0m\u001b[0m\n\u001b[0;32m    971\u001b[0m         \u001b[1;31m# GH#26429 do not raise user-facing AssertionError\u001b[0m\u001b[1;33m\u001b[0m\u001b[1;33m\u001b[0m\u001b[0m\n\u001b[1;32m--> 972\u001b[1;33m         \u001b[1;32mraise\u001b[0m \u001b[0mValueError\u001b[0m\u001b[1;33m(\u001b[0m\u001b[0merr\u001b[0m\u001b[1;33m)\u001b[0m \u001b[1;32mfrom\u001b[0m \u001b[0merr\u001b[0m\u001b[1;33m\u001b[0m\u001b[1;33m\u001b[0m\u001b[0m\n\u001b[0m\u001b[0;32m    973\u001b[0m \u001b[1;33m\u001b[0m\u001b[0m\n\u001b[0;32m    974\u001b[0m     \u001b[1;32mif\u001b[0m \u001b[0mlen\u001b[0m\u001b[1;33m(\u001b[0m\u001b[0mcontents\u001b[0m\u001b[1;33m)\u001b[0m \u001b[1;32mand\u001b[0m \u001b[0mcontents\u001b[0m\u001b[1;33m[\u001b[0m\u001b[1;36m0\u001b[0m\u001b[1;33m]\u001b[0m\u001b[1;33m.\u001b[0m\u001b[0mdtype\u001b[0m \u001b[1;33m==\u001b[0m \u001b[0mnp\u001b[0m\u001b[1;33m.\u001b[0m\u001b[0mobject_\u001b[0m\u001b[1;33m:\u001b[0m\u001b[1;33m\u001b[0m\u001b[1;33m\u001b[0m\u001b[0m\n",
      "\u001b[1;31mValueError\u001b[0m: 8 columns passed, passed data had 9 columns"
     ]
    }
   ],
   "source": [
    "for idx,row in enumerate(df.itertuples()):\n",
    "    count = 6 # счетчик для отсчета обработанных срезов\n",
    "    poo_data = list(row[1:count])\n",
    "    print(poo_data)\n",
    "    for mastery in range(number_mastery):\n",
    "        data = list(row[count:count+offset])\n",
    "        if data[0] !='Пусто':\n",
    "            temp_lst = poo_data.copy()\n",
    "            print(data)\n",
    "            temp_lst.extend(data)\n",
    "            print(temp_lst)\n",
    "            temp_row = pd.DataFrame(columns=['ПОО','ФИО заполнившего',\n",
    "                                             'Должность','Телефон','Лицен','Мастерская','Кружок','Количество рабочих мест',\n",
    "                                             'Условия для проведения'],\n",
    "                                   data=[temp_lst])\n",
    "            \n",
    "            out_df = pd.concat([out_df,temp_row],ignore_index=True)\n",
    "            \n",
    "                                             \n",
    "        \n",
    "        \n",
    "        \n",
    "        count += offset\n"
   ]
  },
  {
   "cell_type": "code",
   "execution_count": null,
   "id": "2a562b76",
   "metadata": {},
   "outputs": [],
   "source": []
  },
  {
   "cell_type": "code",
   "execution_count": 46,
   "id": "33fda3dc",
   "metadata": {},
   "outputs": [
    {
     "data": {
      "text/html": [
       "<div>\n",
       "<style scoped>\n",
       "    .dataframe tbody tr th:only-of-type {\n",
       "        vertical-align: middle;\n",
       "    }\n",
       "\n",
       "    .dataframe tbody tr th {\n",
       "        vertical-align: top;\n",
       "    }\n",
       "\n",
       "    .dataframe thead th {\n",
       "        text-align: right;\n",
       "    }\n",
       "</style>\n",
       "<table border=\"1\" class=\"dataframe\">\n",
       "  <thead>\n",
       "    <tr style=\"text-align: right;\">\n",
       "      <th></th>\n",
       "      <th>ПОО</th>\n",
       "      <th>ФИО заполнившего</th>\n",
       "      <th>Должность</th>\n",
       "      <th>Телефон</th>\n",
       "      <th>Мастерская</th>\n",
       "      <th>Кружок</th>\n",
       "      <th>Количество рабочих мест</th>\n",
       "      <th>Условия для проведения</th>\n",
       "    </tr>\n",
       "  </thead>\n",
       "  <tbody>\n",
       "  </tbody>\n",
       "</table>\n",
       "</div>"
      ],
      "text/plain": [
       "Empty DataFrame\n",
       "Columns: [ПОО, ФИО заполнившего, Должность, Телефон, Мастерская, Кружок, Количество рабочих мест, Условия для проведения]\n",
       "Index: []"
      ]
     },
     "execution_count": 46,
     "metadata": {},
     "output_type": "execute_result"
    }
   ],
   "source": [
    "out_df"
   ]
  },
  {
   "cell_type": "code",
   "execution_count": null,
   "id": "c8d50885",
   "metadata": {},
   "outputs": [],
   "source": []
  },
  {
   "cell_type": "code",
   "execution_count": null,
   "id": "353c945e",
   "metadata": {},
   "outputs": [],
   "source": []
  }
 ],
 "metadata": {
  "kernelspec": {
   "display_name": "Python 3 (ipykernel)",
   "language": "python",
   "name": "python3"
  },
  "language_info": {
   "codemirror_mode": {
    "name": "ipython",
    "version": 3
   },
   "file_extension": ".py",
   "mimetype": "text/x-python",
   "name": "python",
   "nbconvert_exporter": "python",
   "pygments_lexer": "ipython3",
   "version": "3.9.13"
  }
 },
 "nbformat": 4,
 "nbformat_minor": 5
}
