{
 "cells": [
  {
   "cell_type": "code",
   "execution_count": 42,
   "id": "3d7d2f11",
   "metadata": {},
   "outputs": [
    {
     "data": {
      "text/plain": [
       "'\\nГенерация статусов для тестовых данных\\nсводные таблицы для социального паспорта БРИТ\\n'"
      ]
     },
     "execution_count": 42,
     "metadata": {},
     "output_type": "execute_result"
    }
   ],
   "source": [
    "\"\"\"\n",
    "Генерация статусов для тестовых данных\n",
    "сводные таблицы для социального паспорта БРИТ\n",
    "\"\"\""
   ]
  },
  {
   "cell_type": "code",
   "execution_count": 43,
   "id": "38bd3040",
   "metadata": {},
   "outputs": [],
   "source": [
    "import pandas as pd\n",
    "import random"
   ]
  },
  {
   "cell_type": "code",
   "execution_count": 44,
   "id": "6d3c9bef",
   "metadata": {},
   "outputs": [],
   "source": [
    "def generate_category_column(lst_category:list,size_df):\n",
    "    \"\"\"\n",
    "    Функция для генерации колонок с категориями\n",
    "    \"\"\"\n",
    "    temp_col = [random.choice(lst_category) for i in range(0,size_df)]\n",
    "    return pd.Series(temp_col)\n",
    "    "
   ]
  },
  {
   "cell_type": "code",
   "execution_count": null,
   "id": "651128d8",
   "metadata": {},
   "outputs": [],
   "source": []
  },
  {
   "cell_type": "code",
   "execution_count": null,
   "id": "6b5f3201",
   "metadata": {},
   "outputs": [],
   "source": []
  },
  {
   "cell_type": "raw",
   "id": "49eb5c22",
   "metadata": {},
   "source": [
    "size_df = df.shape[0]\n",
    "\n",
    "df['Статус_обучение'] = generate_category_column(['Обучается','Отчислен','Декрет','Служба в РА'],size_df)\n",
    "df['Статус_сиротство'] = generate_category_column(['Сирота',None],size_df)\n",
    "df['Статус_семья'] = generate_category_column(['Полная семья','Неполная семья',None],size_df)\n",
    "df['Статус_СВО'] = generate_category_column(['Член семьи участника СВО',None],size_df)"
   ]
  },
  {
   "cell_type": "code",
   "execution_count": null,
   "id": "08b2dc3c",
   "metadata": {},
   "outputs": [],
   "source": []
  },
  {
   "cell_type": "code",
   "execution_count": 45,
   "id": "1cadd792",
   "metadata": {},
   "outputs": [],
   "source": [
    "df = pd.read_excel('data/svod.xlsx',dtype=str)"
   ]
  },
  {
   "cell_type": "code",
   "execution_count": 46,
   "id": "5c6c7f64",
   "metadata": {},
   "outputs": [
    {
     "data": {
      "text/html": [
       "<div>\n",
       "<style scoped>\n",
       "    .dataframe tbody tr th:only-of-type {\n",
       "        vertical-align: middle;\n",
       "    }\n",
       "\n",
       "    .dataframe tbody tr th {\n",
       "        vertical-align: top;\n",
       "    }\n",
       "\n",
       "    .dataframe thead th {\n",
       "        text-align: right;\n",
       "    }\n",
       "</style>\n",
       "<table border=\"1\" class=\"dataframe\">\n",
       "  <thead>\n",
       "    <tr style=\"text-align: right;\">\n",
       "      <th></th>\n",
       "      <th>Unnamed: 0</th>\n",
       "      <th>№ Группы</th>\n",
       "      <th>Группа</th>\n",
       "      <th>ФИО</th>\n",
       "      <th>Статус_обучение</th>\n",
       "      <th>Дата_рождения</th>\n",
       "      <th>Пол</th>\n",
       "      <th>Телефон</th>\n",
       "      <th>Серия_паспорта</th>\n",
       "      <th>Номер_паспорта</th>\n",
       "      <th>...</th>\n",
       "      <th>Адрес_регистрации</th>\n",
       "      <th>Фактический_адрес</th>\n",
       "      <th>СНИЛС</th>\n",
       "      <th>ФИО_родителя_опекуна</th>\n",
       "      <th>Телефон_родителя_опекуна</th>\n",
       "      <th>Статус_общежитие</th>\n",
       "      <th>Статус_сиротство</th>\n",
       "      <th>Статус_семья</th>\n",
       "      <th>Статус_СВО</th>\n",
       "      <th>Для подсчета</th>\n",
       "    </tr>\n",
       "  </thead>\n",
       "  <tbody>\n",
       "    <tr>\n",
       "      <th>0</th>\n",
       "      <td>0</td>\n",
       "      <td>ДА-989</td>\n",
       "      <td>ДА-989</td>\n",
       "      <td>Алехин Данила Прокопьевич</td>\n",
       "      <td>Отчислен</td>\n",
       "      <td>14.04.1973</td>\n",
       "      <td>М</td>\n",
       "      <td>+7 (951) 885-25-41</td>\n",
       "      <td>4844</td>\n",
       "      <td>295530</td>\n",
       "      <td>...</td>\n",
       "      <td>Россия, г. Иркутск, Кирова ул., д. 1 кв.212</td>\n",
       "      <td>Россия, г. Екатеринбург, Кирова ул., д. 1 кв.107</td>\n",
       "      <td>707-920-812 02</td>\n",
       "      <td>NaN</td>\n",
       "      <td>+7 (952) 660-84-54</td>\n",
       "      <td>Да</td>\n",
       "      <td>Сирота</td>\n",
       "      <td>NaN</td>\n",
       "      <td>Член семьи участника СВО</td>\n",
       "      <td>1</td>\n",
       "    </tr>\n",
       "    <tr>\n",
       "      <th>1</th>\n",
       "      <td>1</td>\n",
       "      <td>ДА-989</td>\n",
       "      <td>ДА-989</td>\n",
       "      <td>Эсаулова Валерия Прокловна</td>\n",
       "      <td>Служба в РА</td>\n",
       "      <td>20.08.1976</td>\n",
       "      <td>Ж</td>\n",
       "      <td>+7 (956) 542-41-98</td>\n",
       "      <td>4692</td>\n",
       "      <td>138713</td>\n",
       "      <td>...</td>\n",
       "      <td>Россия, г. Хабаровск, Дружная ул., д. 24 кв.29</td>\n",
       "      <td>Россия, г. Петрозаводск, Партизанская ул., д. ...</td>\n",
       "      <td>787-001-282 02</td>\n",
       "      <td>NaN</td>\n",
       "      <td>NaN</td>\n",
       "      <td>Нет</td>\n",
       "      <td>NaN</td>\n",
       "      <td>Неполная семья</td>\n",
       "      <td>Член семьи участника СВО</td>\n",
       "      <td>1</td>\n",
       "    </tr>\n",
       "    <tr>\n",
       "      <th>2</th>\n",
       "      <td>2</td>\n",
       "      <td>ДА-989</td>\n",
       "      <td>ДА-989</td>\n",
       "      <td>Панин Гавриил Власович</td>\n",
       "      <td>Отчислен</td>\n",
       "      <td>25.10.1990</td>\n",
       "      <td>М</td>\n",
       "      <td>+7 (919) 826-80-46</td>\n",
       "      <td>4864</td>\n",
       "      <td>491088</td>\n",
       "      <td>...</td>\n",
       "      <td>Россия, г. Дзержинск, Тихая ул., д. 18 кв.204</td>\n",
       "      <td>Россия, г. Астрахань, Светлая ул., д. 21 кв.13</td>\n",
       "      <td>884-241-773 36</td>\n",
       "      <td>NaN</td>\n",
       "      <td>NaN</td>\n",
       "      <td>Да</td>\n",
       "      <td>Сирота</td>\n",
       "      <td>NaN</td>\n",
       "      <td>Член семьи участника СВО</td>\n",
       "      <td>1</td>\n",
       "    </tr>\n",
       "    <tr>\n",
       "      <th>3</th>\n",
       "      <td>3</td>\n",
       "      <td>ДА-989</td>\n",
       "      <td>ДА-989</td>\n",
       "      <td>Грибанов Константин Степанович</td>\n",
       "      <td>Декрет</td>\n",
       "      <td>06.09.1989</td>\n",
       "      <td>М</td>\n",
       "      <td>+7 (944) 836-87-73</td>\n",
       "      <td>4668</td>\n",
       "      <td>105132</td>\n",
       "      <td>...</td>\n",
       "      <td>Россия, г. Махачкала, Белорусская ул., д. 25 к...</td>\n",
       "      <td>Россия, г. Владимир, Радужная ул., д. 23 кв.102</td>\n",
       "      <td>712-542-011 45</td>\n",
       "      <td>NaN</td>\n",
       "      <td>+7 (918) 289-24-35</td>\n",
       "      <td>Нет</td>\n",
       "      <td>Сирота</td>\n",
       "      <td>Полная семья</td>\n",
       "      <td>Член семьи участника СВО</td>\n",
       "      <td>1</td>\n",
       "    </tr>\n",
       "    <tr>\n",
       "      <th>4</th>\n",
       "      <td>4</td>\n",
       "      <td>ДА-989</td>\n",
       "      <td>ДА-989</td>\n",
       "      <td>Мандрыко Трофим Леонидович</td>\n",
       "      <td>Декрет</td>\n",
       "      <td>12.01.1965</td>\n",
       "      <td>М</td>\n",
       "      <td>+7 (922) 113-32-87</td>\n",
       "      <td>4943</td>\n",
       "      <td>422524</td>\n",
       "      <td>...</td>\n",
       "      <td>Россия, г. Благовещенск, Восточная ул., д. 4 к...</td>\n",
       "      <td>Россия, г. Курган, Пионерская ул., д. 25 кв.118</td>\n",
       "      <td>387-520-696 20</td>\n",
       "      <td>NaN</td>\n",
       "      <td>+7 (955) 701-50-25</td>\n",
       "      <td>Нет</td>\n",
       "      <td>Сирота</td>\n",
       "      <td>Полная семья</td>\n",
       "      <td>NaN</td>\n",
       "      <td>1</td>\n",
       "    </tr>\n",
       "  </tbody>\n",
       "</table>\n",
       "<p>5 rows × 23 columns</p>\n",
       "</div>"
      ],
      "text/plain": [
       "  Unnamed: 0 № Группы  Группа                             ФИО Статус_обучение  \\\n",
       "0          0   ДА-989  ДА-989       Алехин Данила Прокопьевич        Отчислен   \n",
       "1          1   ДА-989  ДА-989      Эсаулова Валерия Прокловна     Служба в РА   \n",
       "2          2   ДА-989  ДА-989          Панин Гавриил Власович        Отчислен   \n",
       "3          3   ДА-989  ДА-989  Грибанов Константин Степанович          Декрет   \n",
       "4          4   ДА-989  ДА-989      Мандрыко Трофим Леонидович          Декрет   \n",
       "\n",
       "  Дата_рождения Пол             Телефон Серия_паспорта Номер_паспорта  ...  \\\n",
       "0    14.04.1973   М  +7 (951) 885-25-41           4844         295530  ...   \n",
       "1    20.08.1976   Ж  +7 (956) 542-41-98           4692         138713  ...   \n",
       "2    25.10.1990   М  +7 (919) 826-80-46           4864         491088  ...   \n",
       "3    06.09.1989   М  +7 (944) 836-87-73           4668         105132  ...   \n",
       "4    12.01.1965   М  +7 (922) 113-32-87           4943         422524  ...   \n",
       "\n",
       "                                   Адрес_регистрации  \\\n",
       "0        Россия, г. Иркутск, Кирова ул., д. 1 кв.212   \n",
       "1     Россия, г. Хабаровск, Дружная ул., д. 24 кв.29   \n",
       "2      Россия, г. Дзержинск, Тихая ул., д. 18 кв.204   \n",
       "3  Россия, г. Махачкала, Белорусская ул., д. 25 к...   \n",
       "4  Россия, г. Благовещенск, Восточная ул., д. 4 к...   \n",
       "\n",
       "                                   Фактический_адрес           СНИЛС  \\\n",
       "0   Россия, г. Екатеринбург, Кирова ул., д. 1 кв.107  707-920-812 02   \n",
       "1  Россия, г. Петрозаводск, Партизанская ул., д. ...  787-001-282 02   \n",
       "2     Россия, г. Астрахань, Светлая ул., д. 21 кв.13  884-241-773 36   \n",
       "3    Россия, г. Владимир, Радужная ул., д. 23 кв.102  712-542-011 45   \n",
       "4    Россия, г. Курган, Пионерская ул., д. 25 кв.118  387-520-696 20   \n",
       "\n",
       "  ФИО_родителя_опекуна Телефон_родителя_опекуна Статус_общежитие  \\\n",
       "0                  NaN       +7 (952) 660-84-54               Да   \n",
       "1                  NaN                      NaN              Нет   \n",
       "2                  NaN                      NaN               Да   \n",
       "3                  NaN       +7 (918) 289-24-35              Нет   \n",
       "4                  NaN       +7 (955) 701-50-25              Нет   \n",
       "\n",
       "  Статус_сиротство    Статус_семья                Статус_СВО Для подсчета  \n",
       "0           Сирота             NaN  Член семьи участника СВО            1  \n",
       "1              NaN  Неполная семья  Член семьи участника СВО            1  \n",
       "2           Сирота             NaN  Член семьи участника СВО            1  \n",
       "3           Сирота    Полная семья  Член семьи участника СВО            1  \n",
       "4           Сирота    Полная семья                       NaN            1  \n",
       "\n",
       "[5 rows x 23 columns]"
      ]
     },
     "execution_count": 46,
     "metadata": {},
     "output_type": "execute_result"
    }
   ],
   "source": [
    "df.head()"
   ]
  },
  {
   "cell_type": "code",
   "execution_count": 47,
   "id": "58bb8e7c",
   "metadata": {},
   "outputs": [],
   "source": [
    "dct_main_params = {'Статус_обучение':'Обучается','Статус_общежитие':'Да','Статус_сиротство':'Сирота','Статус_семья':'Неполная семья','Статус_СВО':'Член семьи участника СВО'}"
   ]
  },
  {
   "cell_type": "code",
   "execution_count": 50,
   "id": "67204beb",
   "metadata": {},
   "outputs": [
    {
     "data": {
      "text/plain": [
       "Статус_обучение     1000.0\n",
       "Статус_общежитие    1000.0\n",
       "dtype: float64"
      ]
     },
     "execution_count": 50,
     "metadata": {},
     "output_type": "execute_result"
    }
   ],
   "source": [
    "df[['Статус_обучение','Статус_общежитие']].apply(lambda x:pd.value_counts(x),axis=0).sum()"
   ]
  },
  {
   "cell_type": "code",
   "execution_count": null,
   "id": "c294a3a8",
   "metadata": {},
   "outputs": [],
   "source": [
    "df"
   ]
  },
  {
   "cell_type": "code",
   "execution_count": null,
   "id": "79eabd68",
   "metadata": {},
   "outputs": [],
   "source": [
    "data = {\n",
    "    'Колонка1': [1, 2, 2, 1, 3],\n",
    "    'Колонка2': ['A', 'B', 'A', 'A', 'B'],\n",
    "    'Колонка3': ['X', 'X', 'Y', 'Y', 'X']\n",
    "}\n",
    "\n",
    "df = pd.DataFrame(data)"
   ]
  },
  {
   "cell_type": "code",
   "execution_count": null,
   "id": "1c18c5d8",
   "metadata": {},
   "outputs": [],
   "source": [
    "result = df.groupby(['Колонка1', 'Колонка2', 'Колонка3']).size().reset_index(name='Количество')"
   ]
  },
  {
   "cell_type": "code",
   "execution_count": null,
   "id": "49cff688",
   "metadata": {},
   "outputs": [],
   "source": [
    "result"
   ]
  },
  {
   "cell_type": "code",
   "execution_count": null,
   "id": "e401c091",
   "metadata": {},
   "outputs": [],
   "source": []
  },
  {
   "cell_type": "code",
   "execution_count": null,
   "id": "d071413e",
   "metadata": {},
   "outputs": [],
   "source": []
  },
  {
   "cell_type": "code",
   "execution_count": null,
   "id": "39d39d6a",
   "metadata": {},
   "outputs": [],
   "source": []
  }
 ],
 "metadata": {
  "kernelspec": {
   "display_name": "Python 3 (ipykernel)",
   "language": "python",
   "name": "python3"
  },
  "language_info": {
   "codemirror_mode": {
    "name": "ipython",
    "version": 3
   },
   "file_extension": ".py",
   "mimetype": "text/x-python",
   "name": "python",
   "nbconvert_exporter": "python",
   "pygments_lexer": "ipython3",
   "version": "3.9.13"
  }
 },
 "nbformat": 4,
 "nbformat_minor": 5
}
